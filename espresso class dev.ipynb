{
 "cells": [
  {
   "cell_type": "markdown",
   "metadata": {},
   "source": [
    "## Import Libraries"
   ]
  },
  {
   "cell_type": "code",
   "execution_count": 1,
   "metadata": {
    "ExecuteTime": {
     "end_time": "2017-09-14T10:45:23.981841Z",
     "start_time": "2017-09-14T10:45:23.214112Z"
    }
   },
   "outputs": [],
   "source": [
    "import sys\n",
    "import os\n",
    "\n",
    "import numpy as np\n",
    "import scipy as sp\n",
    "import pandas as pd\n",
    "\n",
    "import espresso as esp"
   ]
  },
  {
   "cell_type": "markdown",
   "metadata": {},
   "source": [
    "## Create espresso instance"
   ]
  },
  {
   "cell_type": "code",
   "execution_count": 2,
   "metadata": {
    "ExecuteTime": {
     "end_time": "2017-09-14T10:45:26.342072Z",
     "start_time": "2017-09-14T10:45:25.048327Z"
    }
   },
   "outputs": [],
   "source": [
    "datadir1='/Users/josesho/bin/espresso/by_genotype/Trh-Gal4-Trh-Zal-UAS-GZ-TrpA1/22'\n",
    "datadir2='/Users/josesho/bin/espresso/by_genotype/Trh-Gal4-Trh-Zal-UAS-GZ-TrpA1/29'\n",
    "datadir3='/Users/josesho/bin/espresso/starvation_gradient/24-Hrs'\n",
    "\n",
    "twotubes22=esp.espresso(folder=datadir1)\n",
    "twotubes29=esp.espresso(folder=datadir2)\n",
    "starvation=esp.espresso(folder=datadir3)"
   ]
  },
  {
   "cell_type": "code",
   "execution_count": 3,
   "metadata": {
    "ExecuteTime": {
     "end_time": "2017-09-14T10:45:32.283417Z",
     "start_time": "2017-09-14T10:45:32.245350Z"
    }
   },
   "outputs": [],
   "source": [
    "new=twotubes22+twotubes29+starvation"
   ]
  },
  {
   "cell_type": "code",
   "execution_count": 6,
   "metadata": {
    "ExecuteTime": {
     "end_time": "2017-09-14T10:45:52.528743Z",
     "start_time": "2017-09-14T10:45:52.492364Z"
    }
   },
   "outputs": [],
   "source": [
    "new=sum([twotubes22,twotubes29,starvation])"
   ]
  },
  {
   "cell_type": "code",
   "execution_count": null,
   "metadata": {
    "collapsed": true
   },
   "outputs": [],
   "source": []
  }
 ],
 "metadata": {
  "kernelspec": {
   "display_name": "Python 3.6",
   "language": "python",
   "name": "python3"
  },
  "language_info": {
   "codemirror_mode": {
    "name": "ipython",
    "version": 3
   },
   "file_extension": ".py",
   "mimetype": "text/x-python",
   "name": "python",
   "nbconvert_exporter": "python",
   "pygments_lexer": "ipython3",
   "version": "3.6.1"
  }
 },
 "nbformat": 4,
 "nbformat_minor": 2
}
