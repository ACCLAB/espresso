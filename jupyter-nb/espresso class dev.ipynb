{
 "cells": [
  {
   "cell_type": "markdown",
   "metadata": {
    "heading_collapsed": true
   },
   "source": [
    "## Import Libraries"
   ]
  },
  {
   "cell_type": "code",
   "execution_count": 1,
   "metadata": {
    "ExecuteTime": {
     "end_time": "2017-09-16T09:03:19.497771Z",
     "start_time": "2017-09-16T09:03:16.787323Z"
    },
    "hidden": true
   },
   "outputs": [
    {
     "name": "stderr",
     "output_type": "stream",
     "text": [
      "/home/joseshowh/miniconda3/lib/python3.6/site-packages/seaborn/apionly.py:6: UserWarning: As seaborn no longer sets a default style on import, the seaborn.apionly module is deprecated. It will be removed in a future version.\n",
      "  warnings.warn(msg, UserWarning)\n"
     ]
    }
   ],
   "source": [
    "import sys\n",
    "sys.path.append(\"..\") # so we can import espresso from the directory above.\n",
    "import os\n",
    "\n",
    "import numpy as np\n",
    "import scipy as sp\n",
    "import pandas as pd\n",
    "import matplotlib as mpl\n",
    "import matplotlib.pyplot as plt\n",
    "%matplotlib inline\n",
    "\n",
    "import seaborn as sns\n",
    "import bootstrap_contrast as bsc\n",
    "\n",
    "import espresso as esp"
   ]
  },
  {
   "cell_type": "markdown",
   "metadata": {},
   "source": [
    "## Create espresso instances"
   ]
  },
  {
   "cell_type": "code",
   "execution_count": 2,
   "metadata": {
    "ExecuteTime": {
     "end_time": "2017-09-16T09:03:24.881009Z",
     "start_time": "2017-09-16T09:03:19.507867Z"
    }
   },
   "outputs": [],
   "source": [
    "git_repo_folder='/home/joseshowh/git-repos/espresso'\n",
    "datadir1=os.path.join(git_repo_folder,'data/by_genotype/Trh-Gal4-Trh-Zal-UAS-GZ-TrpA1/22')\n",
    "datadir2=os.path.join(git_repo_folder,'data/by_genotype/Trh-Gal4-Trh-Zal-UAS-GZ-TrpA1/29')\n",
    "datadir3=os.path.join(git_repo_folder,'data/starvation_gradient/24-Hrs')\n",
    "\n",
    "twotubes22=esp.espresso(folder=datadir1)\n",
    "twotubes29=esp.espresso(folder=datadir2)\n",
    "starvation=esp.espresso(folder=datadir3)"
   ]
  },
  {
   "cell_type": "code",
   "execution_count": 3,
   "metadata": {
    "ExecuteTime": {
     "end_time": "2017-09-16T09:03:24.923547Z",
     "start_time": "2017-09-16T09:03:24.893256Z"
    }
   },
   "outputs": [
    {
     "data": {
      "text/plain": [
       "2 feedlog(s) with a total of 60 flies.\n",
       "1 genotype(s) detected ['w1118'].\n",
       "2 temperature(s) detected [22 25].\n",
       "1 foodtype(s) detected ['5% sucrose + 5% yeast extract']."
      ]
     },
     "execution_count": 3,
     "metadata": {},
     "output_type": "execute_result"
    }
   ],
   "source": [
    "starvation"
   ]
  },
  {
   "cell_type": "code",
   "execution_count": null,
   "metadata": {
    "collapsed": true
   },
   "outputs": [],
   "source": []
  },
  {
   "cell_type": "code",
   "execution_count": 4,
   "metadata": {
    "ExecuteTime": {
     "end_time": "2017-09-16T08:59:18.276233Z",
     "start_time": "2017-09-16T08:59:18.261595Z"
    }
   },
   "outputs": [
    {
     "data": {
      "text/plain": [
       "1 feedlog(s) with a total of 30 flies.\n",
       "3 genotype(s) detected ['w1118;Trh-Gal4' 'w1118;UAS-Gz-TrpA1;Trh-Zal'\n",
       " 'Trh-Gal4>UAS-GZ-TrpA1_Trh-ZAL'].\n",
       "1 temperature(s) detected [22].\n",
       "1 foodtype(s) detected ['5% sucrose + 5% yeast extract']."
      ]
     },
     "execution_count": 4,
     "metadata": {},
     "output_type": "execute_result"
    }
   ],
   "source": [
    "twotubes22"
   ]
  },
  {
   "cell_type": "code",
   "execution_count": 5,
   "metadata": {
    "ExecuteTime": {
     "end_time": "2017-09-16T08:59:18.467399Z",
     "start_time": "2017-09-16T08:59:18.440177Z"
    }
   },
   "outputs": [
    {
     "data": {
      "text/plain": [
       "1 feedlog(s) with a total of 30 flies.\n",
       "3 genotype(s) detected ['w1118;Trh-Gal4' 'w1118;UAS-Gz-TrpA1;Trh-Zal'\n",
       " 'Trh-Gal4>UAS-GZ-TrpA1_Trh-ZAL'].\n",
       "1 temperature(s) detected [29].\n",
       "1 foodtype(s) detected ['5% sucrose + 5% yeast extract']."
      ]
     },
     "execution_count": 5,
     "metadata": {},
     "output_type": "execute_result"
    }
   ],
   "source": [
    "twotubes29"
   ]
  },
  {
   "cell_type": "code",
   "execution_count": null,
   "metadata": {
    "collapsed": true
   },
   "outputs": [],
   "source": []
  },
  {
   "cell_type": "code",
   "execution_count": 8,
   "metadata": {
    "ExecuteTime": {
     "end_time": "2017-09-16T08:36:57.266196Z",
     "start_time": "2017-09-16T08:36:38.735355Z"
    }
   },
   "outputs": [
    {
     "name": "stdout",
     "output_type": "stream",
     "text": [
      "PlotGroup has been added as a new label. The values were created by concatenating the columns ['Genotype', 'Temperature'].\n"
     ]
    },
    {
     "data": {
      "text/plain": [
       "2 feedlog(s) with a total of 60 flies.\n",
       "3 genotype(s) detected ['w1118;Trh-Gal4' 'w1118;UAS-Gz-TrpA1;Trh-Zal'\n",
       " 'Trh-Gal4>UAS-GZ-TrpA1_Trh-ZAL'].\n",
       "2 temperature(s) detected [22 29].\n",
       "1 foodtype(s) detected ['5% sucrose + 5% yeast extract'].\n",
       "1 label(s) have been added: ['PlotGroup']"
      ]
     },
     "execution_count": 8,
     "metadata": {},
     "output_type": "execute_result"
    }
   ],
   "source": [
    "trh=twotubes22+twotubes29\n",
    "trh.add_label(label_name='PlotGroup',label_from_cols=['Genotype','Temperature'])\n",
    "trh"
   ]
  },
  {
   "cell_type": "markdown",
   "metadata": {
    "collapsed": true
   },
   "source": [
    "## Test addition of espresso objects"
   ]
  },
  {
   "cell_type": "code",
   "execution_count": 8,
   "metadata": {
    "ExecuteTime": {
     "end_time": "2017-09-16T09:05:05.302549Z",
     "start_time": "2017-09-16T09:05:04.969092Z"
    },
    "collapsed": true
   },
   "outputs": [],
   "source": [
    "s22=starvation+twotubes22\n",
    "s29=starvation+twotubes29"
   ]
  },
  {
   "cell_type": "code",
   "execution_count": 9,
   "metadata": {
    "ExecuteTime": {
     "end_time": "2017-09-16T09:05:06.890878Z",
     "start_time": "2017-09-16T09:05:06.823577Z"
    }
   },
   "outputs": [
    {
     "name": "stdout",
     "output_type": "stream",
     "text": [
      "label1 has been added as a new label, with 'test1' as the custom value.\n"
     ]
    },
    {
     "data": {
      "text/plain": [
       "3 feedlog(s) with a total of 90 flies.\n",
       "4 genotype(s) detected ['w1118' 'w1118;Trh-Gal4' 'w1118;UAS-Gz-TrpA1;Trh-Zal'\n",
       " 'Trh-Gal4>UAS-GZ-TrpA1_Trh-ZAL'].\n",
       "2 temperature(s) detected [22 25].\n",
       "1 foodtype(s) detected ['5% sucrose + 5% yeast extract'].\n",
       "1 label(s) have been added: ['label1']"
      ]
     },
     "execution_count": 9,
     "metadata": {},
     "output_type": "execute_result"
    }
   ],
   "source": [
    "s22.add_label(label_name='label1',label_value='test1')\n",
    "s22"
   ]
  },
  {
   "cell_type": "code",
   "execution_count": null,
   "metadata": {
    "collapsed": true
   },
   "outputs": [],
   "source": []
  },
  {
   "cell_type": "code",
   "execution_count": 10,
   "metadata": {
    "ExecuteTime": {
     "end_time": "2017-09-16T09:05:10.643005Z",
     "start_time": "2017-09-16T09:05:10.580336Z"
    }
   },
   "outputs": [
    {
     "name": "stdout",
     "output_type": "stream",
     "text": [
      "label2 has been added as a new label, with 'test2' as the custom value.\n"
     ]
    },
    {
     "data": {
      "text/plain": [
       "3 feedlog(s) with a total of 90 flies.\n",
       "4 genotype(s) detected ['w1118' 'w1118;Trh-Gal4' 'w1118;UAS-Gz-TrpA1;Trh-Zal'\n",
       " 'Trh-Gal4>UAS-GZ-TrpA1_Trh-ZAL'].\n",
       "3 temperature(s) detected [22 25 29].\n",
       "1 foodtype(s) detected ['5% sucrose + 5% yeast extract'].\n",
       "1 label(s) have been added: ['label2']"
      ]
     },
     "execution_count": 10,
     "metadata": {},
     "output_type": "execute_result"
    }
   ],
   "source": [
    "s29.add_label(label_name='label2',label_value='test2')\n",
    "s29"
   ]
  },
  {
   "cell_type": "code",
   "execution_count": null,
   "metadata": {
    "collapsed": true
   },
   "outputs": [],
   "source": []
  },
  {
   "cell_type": "code",
   "execution_count": null,
   "metadata": {
    "collapsed": true
   },
   "outputs": [],
   "source": []
  },
  {
   "cell_type": "code",
   "execution_count": 11,
   "metadata": {
    "ExecuteTime": {
     "end_time": "2017-09-16T09:05:13.727199Z",
     "start_time": "2017-09-16T09:05:13.714093Z"
    },
    "collapsed": true
   },
   "outputs": [],
   "source": [
    "df1=s22.flies.head()\n",
    "df2=s29.flies.head()"
   ]
  },
  {
   "cell_type": "code",
   "execution_count": null,
   "metadata": {
    "collapsed": true
   },
   "outputs": [],
   "source": []
  },
  {
   "cell_type": "code",
   "execution_count": 27,
   "metadata": {
    "ExecuteTime": {
     "end_time": "2017-09-16T09:08:42.636968Z",
     "start_time": "2017-09-16T09:08:42.579529Z"
    }
   },
   "outputs": [],
   "source": [
    "df1_and_2=pd.merge(s22.flies,s29.flies,how='outer')"
   ]
  },
  {
   "cell_type": "code",
   "execution_count": 28,
   "metadata": {
    "ExecuteTime": {
     "end_time": "2017-09-16T09:08:43.238358Z",
     "start_time": "2017-09-16T09:08:43.225408Z"
    }
   },
   "outputs": [
    {
     "data": {
      "text/plain": [
       "120"
      ]
     },
     "execution_count": 28,
     "metadata": {},
     "output_type": "execute_result"
    }
   ],
   "source": [
    "len( df1_and_2 )"
   ]
  },
  {
   "cell_type": "code",
   "execution_count": 30,
   "metadata": {
    "ExecuteTime": {
     "end_time": "2017-09-16T09:08:48.715232Z",
     "start_time": "2017-09-16T09:08:48.629557Z"
    }
   },
   "outputs": [
    {
     "data": {
      "text/html": [
       "<div>\n",
       "<style>\n",
       "    .dataframe thead tr:only-child th {\n",
       "        text-align: right;\n",
       "    }\n",
       "\n",
       "    .dataframe thead th {\n",
       "        text-align: left;\n",
       "    }\n",
       "\n",
       "    .dataframe tbody tr th {\n",
       "        vertical-align: top;\n",
       "    }\n",
       "</style>\n",
       "<table border=\"1\" class=\"dataframe\">\n",
       "  <thead>\n",
       "    <tr style=\"text-align: right;\">\n",
       "      <th></th>\n",
       "      <th>ID</th>\n",
       "      <th>Genotype</th>\n",
       "      <th>Sex</th>\n",
       "      <th>Minimum Age</th>\n",
       "      <th>Maximum Age</th>\n",
       "      <th>Tube1</th>\n",
       "      <th>Tube2</th>\n",
       "      <th>Temperature</th>\n",
       "      <th>FlyCountInChamber</th>\n",
       "      <th>AtLeastOneFeed</th>\n",
       "      <th>label1</th>\n",
       "      <th>label2</th>\n",
       "    </tr>\n",
       "  </thead>\n",
       "  <tbody>\n",
       "    <tr>\n",
       "      <th>0</th>\n",
       "      <td>1</td>\n",
       "      <td>w1118</td>\n",
       "      <td>M</td>\n",
       "      <td>5</td>\n",
       "      <td>7</td>\n",
       "      <td>5% sucrose + 5% yeast extract</td>\n",
       "      <td>NaN</td>\n",
       "      <td>22</td>\n",
       "      <td>1</td>\n",
       "      <td>True</td>\n",
       "      <td>test1</td>\n",
       "      <td>test2</td>\n",
       "    </tr>\n",
       "    <tr>\n",
       "      <th>1</th>\n",
       "      <td>2</td>\n",
       "      <td>w1118</td>\n",
       "      <td>M</td>\n",
       "      <td>5</td>\n",
       "      <td>7</td>\n",
       "      <td>5% sucrose + 5% yeast extract</td>\n",
       "      <td>NaN</td>\n",
       "      <td>22</td>\n",
       "      <td>1</td>\n",
       "      <td>True</td>\n",
       "      <td>test1</td>\n",
       "      <td>test2</td>\n",
       "    </tr>\n",
       "    <tr>\n",
       "      <th>2</th>\n",
       "      <td>3</td>\n",
       "      <td>w1118</td>\n",
       "      <td>M</td>\n",
       "      <td>5</td>\n",
       "      <td>7</td>\n",
       "      <td>5% sucrose + 5% yeast extract</td>\n",
       "      <td>NaN</td>\n",
       "      <td>22</td>\n",
       "      <td>1</td>\n",
       "      <td>True</td>\n",
       "      <td>test1</td>\n",
       "      <td>test2</td>\n",
       "    </tr>\n",
       "    <tr>\n",
       "      <th>3</th>\n",
       "      <td>4</td>\n",
       "      <td>w1118</td>\n",
       "      <td>M</td>\n",
       "      <td>5</td>\n",
       "      <td>7</td>\n",
       "      <td>5% sucrose + 5% yeast extract</td>\n",
       "      <td>NaN</td>\n",
       "      <td>22</td>\n",
       "      <td>1</td>\n",
       "      <td>True</td>\n",
       "      <td>test1</td>\n",
       "      <td>test2</td>\n",
       "    </tr>\n",
       "    <tr>\n",
       "      <th>4</th>\n",
       "      <td>5</td>\n",
       "      <td>w1118</td>\n",
       "      <td>M</td>\n",
       "      <td>5</td>\n",
       "      <td>7</td>\n",
       "      <td>5% sucrose + 5% yeast extract</td>\n",
       "      <td>NaN</td>\n",
       "      <td>22</td>\n",
       "      <td>1</td>\n",
       "      <td>True</td>\n",
       "      <td>test1</td>\n",
       "      <td>test2</td>\n",
       "    </tr>\n",
       "  </tbody>\n",
       "</table>\n",
       "</div>"
      ],
      "text/plain": [
       "   ID Genotype Sex  Minimum Age  Maximum Age                          Tube1  \\\n",
       "0   1    w1118   M            5            7  5% sucrose + 5% yeast extract   \n",
       "1   2    w1118   M            5            7  5% sucrose + 5% yeast extract   \n",
       "2   3    w1118   M            5            7  5% sucrose + 5% yeast extract   \n",
       "3   4    w1118   M            5            7  5% sucrose + 5% yeast extract   \n",
       "4   5    w1118   M            5            7  5% sucrose + 5% yeast extract   \n",
       "\n",
       "  Tube2  Temperature  FlyCountInChamber AtLeastOneFeed label1 label2  \n",
       "0   NaN           22                  1           True  test1  test2  \n",
       "1   NaN           22                  1           True  test1  test2  \n",
       "2   NaN           22                  1           True  test1  test2  \n",
       "3   NaN           22                  1           True  test1  test2  \n",
       "4   NaN           22                  1           True  test1  test2  "
      ]
     },
     "execution_count": 30,
     "metadata": {},
     "output_type": "execute_result"
    }
   ],
   "source": [
    "df1_and_2.head()"
   ]
  },
  {
   "cell_type": "code",
   "execution_count": null,
   "metadata": {
    "collapsed": true
   },
   "outputs": [],
   "source": [
    "pd.merge(df1, df2, how=)"
   ]
  },
  {
   "cell_type": "code",
   "execution_count": null,
   "metadata": {
    "collapsed": true
   },
   "outputs": [],
   "source": []
  },
  {
   "cell_type": "code",
   "execution_count": 14,
   "metadata": {
    "ExecuteTime": {
     "end_time": "2017-09-15T10:32:10.887732Z",
     "start_time": "2017-09-15T10:32:10.822909Z"
    }
   },
   "outputs": [
    {
     "data": {
      "text/plain": [
       "4 feedlog(s) with a total of 180 flies.\n",
       "4 genotype(s) detected ['w1118' 'w1118;Trh-Gal4' 'w1118;UAS-Gz-TrpA1;Trh-Zal'\n",
       " 'Trh-Gal4>UAS-GZ-TrpA1_Trh-ZAL'].\n",
       "3 temperature(s) detected [25 22 29].\n",
       "1 foodtype(s) detected ['5% sucrose + 5% yeast extract'].\n",
       "1 label(s) have been added: ['label1']"
      ]
     },
     "execution_count": 14,
     "metadata": {},
     "output_type": "execute_result"
    }
   ],
   "source": [
    "supersum=s22+s29\n",
    "supersum"
   ]
  },
  {
   "cell_type": "code",
   "execution_count": null,
   "metadata": {
    "collapsed": true
   },
   "outputs": [],
   "source": []
  },
  {
   "cell_type": "code",
   "execution_count": 15,
   "metadata": {
    "ExecuteTime": {
     "end_time": "2017-09-15T10:32:18.181675Z",
     "start_time": "2017-09-15T10:32:18.079857Z"
    }
   },
   "outputs": [
    {
     "data": {
      "text/plain": [
       "4 feedlog(s) with a total of 240 flies.\n",
       "4 genotype(s) detected ['w1118' 'w1118;Trh-Gal4' 'w1118;UAS-Gz-TrpA1;Trh-Zal'\n",
       " 'Trh-Gal4>UAS-GZ-TrpA1_Trh-ZAL'].\n",
       "3 temperature(s) detected [25 22 29].\n",
       "1 foodtype(s) detected ['5% sucrose + 5% yeast extract'].\n",
       "2 label(s) have been added: ['label1', 'PlotGroup']"
      ]
     },
     "execution_count": 15,
     "metadata": {},
     "output_type": "execute_result"
    }
   ],
   "source": [
    "megasum=supersum+trh\n",
    "megasum"
   ]
  },
  {
   "cell_type": "code",
   "execution_count": 19,
   "metadata": {
    "ExecuteTime": {
     "end_time": "2017-09-15T10:38:38.361283Z",
     "start_time": "2017-09-15T10:38:38.356043Z"
    }
   },
   "outputs": [
    {
     "data": {
      "text/plain": [
       "25114"
      ]
     },
     "execution_count": 19,
     "metadata": {},
     "output_type": "execute_result"
    }
   ],
   "source": [
    "len(megasum.feeds)"
   ]
  },
  {
   "cell_type": "code",
   "execution_count": 24,
   "metadata": {
    "ExecuteTime": {
     "end_time": "2017-09-15T10:43:10.195922Z",
     "start_time": "2017-09-15T10:43:10.140757Z"
    }
   },
   "outputs": [
    {
     "data": {
      "text/plain": [
       "12557"
      ]
     },
     "execution_count": 24,
     "metadata": {},
     "output_type": "execute_result"
    }
   ],
   "source": [
    "len( megasum.feeds.drop(megasum.added_labels, axis=1).drop_duplicates() )"
   ]
  },
  {
   "cell_type": "code",
   "execution_count": null,
   "metadata": {
    "collapsed": true
   },
   "outputs": [],
   "source": []
  }
 ],
 "metadata": {
  "kernelspec": {
   "display_name": "Python 3",
   "language": "python",
   "name": "python3"
  },
  "language_info": {
   "codemirror_mode": {
    "name": "ipython",
    "version": 3
   },
   "file_extension": ".py",
   "mimetype": "text/x-python",
   "name": "python",
   "nbconvert_exporter": "python",
   "pygments_lexer": "ipython3",
   "version": "3.6.1"
  }
 },
 "nbformat": 4,
 "nbformat_minor": 2
}
