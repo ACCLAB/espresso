{
 "cells": [
  {
   "cell_type": "markdown",
   "metadata": {},
   "source": [
    "## Import Libraries"
   ]
  },
  {
   "cell_type": "code",
   "execution_count": 1,
   "metadata": {
    "ExecuteTime": {
     "end_time": "2017-09-15T10:28:43.581214Z",
     "start_time": "2017-09-15T10:28:42.422694Z"
    }
   },
   "outputs": [
    {
     "name": "stderr",
     "output_type": "stream",
     "text": [
      "/Users/josesho/anaconda3/envs/py3.6/lib/python3.6/site-packages/seaborn/apionly.py:6: UserWarning: As seaborn no longer sets a default style on import, the seaborn.apionly module is deprecated. It will be removed in a future version.\n",
      "  warnings.warn(msg, UserWarning)\n"
     ]
    }
   ],
   "source": [
    "import sys\n",
    "sys.path.append(\"..\") # so we can import espresso from the directory above.\n",
    "import os\n",
    "\n",
    "import numpy as np\n",
    "import scipy as sp\n",
    "import pandas as pd\n",
    "import matplotlib as mpl\n",
    "import matplotlib.pyplot as plt\n",
    "%matplotlib inline\n",
    "\n",
    "import seaborn as sns\n",
    "import bootstrap_contrast as bsc\n",
    "\n",
    "import espresso as esp\n"
   ]
  },
  {
   "cell_type": "markdown",
   "metadata": {},
   "source": [
    "## Create espresso instance"
   ]
  },
  {
   "cell_type": "code",
   "execution_count": 2,
   "metadata": {
    "ExecuteTime": {
     "end_time": "2017-09-15T10:28:45.093178Z",
     "start_time": "2017-09-15T10:28:43.582837Z"
    }
   },
   "outputs": [],
   "source": [
    "datadir1='/Users/josesho/bin/espresso_data/by_genotype/Trh-Gal4-Trh-Zal-UAS-GZ-TrpA1/22'\n",
    "datadir2='/Users/josesho/bin/espresso_data/by_genotype/Trh-Gal4-Trh-Zal-UAS-GZ-TrpA1/29'\n",
    "datadir3='/Users/josesho/bin/espresso_data/starvation_gradient/24-Hrs'\n",
    "\n",
    "twotubes22=esp.espresso(folder=datadir1)\n",
    "twotubes29=esp.espresso(folder=datadir2)\n",
    "starvation=esp.espresso(folder=datadir3)"
   ]
  },
  {
   "cell_type": "code",
   "execution_count": null,
   "metadata": {
    "collapsed": true
   },
   "outputs": [],
   "source": []
  },
  {
   "cell_type": "code",
   "execution_count": 3,
   "metadata": {
    "ExecuteTime": {
     "end_time": "2017-09-15T10:28:45.101370Z",
     "start_time": "2017-09-15T10:28:45.095246Z"
    }
   },
   "outputs": [
    {
     "data": {
      "text/plain": [
       "2 feedlog(s) with a total of 60 flies.\n",
       "1 genotype(s) detected ['w1118'].\n",
       "2 temperature(s) detected [25 22].\n",
       "1 foodtype(s) detected ['5% sucrose + 5% yeast extract']."
      ]
     },
     "execution_count": 3,
     "metadata": {},
     "output_type": "execute_result"
    }
   ],
   "source": [
    "starvation"
   ]
  },
  {
   "cell_type": "code",
   "execution_count": 4,
   "metadata": {
    "ExecuteTime": {
     "end_time": "2017-09-15T10:28:45.107702Z",
     "start_time": "2017-09-15T10:28:45.103179Z"
    }
   },
   "outputs": [
    {
     "data": {
      "text/plain": [
       "1 feedlog(s) with a total of 30 flies.\n",
       "3 genotype(s) detected ['w1118;Trh-Gal4' 'w1118;UAS-Gz-TrpA1;Trh-Zal'\n",
       " 'Trh-Gal4>UAS-GZ-TrpA1_Trh-ZAL'].\n",
       "1 temperature(s) detected [22].\n",
       "1 foodtype(s) detected ['5% sucrose + 5% yeast extract']."
      ]
     },
     "execution_count": 4,
     "metadata": {},
     "output_type": "execute_result"
    }
   ],
   "source": [
    "twotubes22"
   ]
  },
  {
   "cell_type": "code",
   "execution_count": 5,
   "metadata": {
    "ExecuteTime": {
     "end_time": "2017-09-15T10:28:45.114998Z",
     "start_time": "2017-09-15T10:28:45.109521Z"
    }
   },
   "outputs": [
    {
     "data": {
      "text/plain": [
       "1 feedlog(s) with a total of 30 flies.\n",
       "3 genotype(s) detected ['w1118;Trh-Gal4' 'w1118;UAS-Gz-TrpA1;Trh-Zal'\n",
       " 'Trh-Gal4>UAS-GZ-TrpA1_Trh-ZAL'].\n",
       "1 temperature(s) detected [29].\n",
       "1 foodtype(s) detected ['5% sucrose + 5% yeast extract']."
      ]
     },
     "execution_count": 5,
     "metadata": {},
     "output_type": "execute_result"
    }
   ],
   "source": [
    "twotubes29"
   ]
  },
  {
   "cell_type": "code",
   "execution_count": null,
   "metadata": {
    "collapsed": true
   },
   "outputs": [],
   "source": []
  },
  {
   "cell_type": "code",
   "execution_count": 6,
   "metadata": {
    "ExecuteTime": {
     "end_time": "2017-09-15T10:28:49.392580Z",
     "start_time": "2017-09-15T10:28:45.117148Z"
    }
   },
   "outputs": [
    {
     "name": "stdout",
     "output_type": "stream",
     "text": [
      "PlotGroup has been added as a new label. The values were created by concatenating the columns ['Genotype', 'Temperature'].\n"
     ]
    },
    {
     "data": {
      "text/plain": [
       "2 feedlog(s) with a total of 60 flies.\n",
       "3 genotype(s) detected ['w1118;Trh-Gal4' 'w1118;UAS-Gz-TrpA1;Trh-Zal'\n",
       " 'Trh-Gal4>UAS-GZ-TrpA1_Trh-ZAL'].\n",
       "2 temperature(s) detected [22 29].\n",
       "1 foodtype(s) detected ['5% sucrose + 5% yeast extract'].\n",
       "1 label(s) have been added: ['PlotGroup']"
      ]
     },
     "execution_count": 6,
     "metadata": {},
     "output_type": "execute_result"
    }
   ],
   "source": [
    "trh=twotubes22+twotubes29\n",
    "trh.add_label(label_name='PlotGroup',label_from_cols=['Genotype','Temperature'])\n",
    "trh"
   ]
  },
  {
   "cell_type": "code",
   "execution_count": null,
   "metadata": {
    "collapsed": true
   },
   "outputs": [],
   "source": []
  },
  {
   "cell_type": "code",
   "execution_count": 7,
   "metadata": {
    "ExecuteTime": {
     "end_time": "2017-09-15T10:28:49.482930Z",
     "start_time": "2017-09-15T10:28:49.394339Z"
    }
   },
   "outputs": [],
   "source": [
    "s22=starvation+twotubes22\n",
    "s29=starvation+twotubes29"
   ]
  },
  {
   "cell_type": "code",
   "execution_count": 8,
   "metadata": {
    "ExecuteTime": {
     "end_time": "2017-09-15T10:28:49.500085Z",
     "start_time": "2017-09-15T10:28:49.485674Z"
    }
   },
   "outputs": [
    {
     "name": "stdout",
     "output_type": "stream",
     "text": [
      "label1 has been added as a new label, with 'test1' as the custom value.\n"
     ]
    },
    {
     "data": {
      "text/plain": [
       "3 feedlog(s) with a total of 90 flies.\n",
       "4 genotype(s) detected ['w1118' 'w1118;Trh-Gal4' 'w1118;UAS-Gz-TrpA1;Trh-Zal'\n",
       " 'Trh-Gal4>UAS-GZ-TrpA1_Trh-ZAL'].\n",
       "2 temperature(s) detected [25 22].\n",
       "1 foodtype(s) detected ['5% sucrose + 5% yeast extract'].\n",
       "1 label(s) have been added: ['label1']"
      ]
     },
     "execution_count": 8,
     "metadata": {},
     "output_type": "execute_result"
    }
   ],
   "source": [
    "s22.add_label(label_name='label1',label_value='test1')\n",
    "s22"
   ]
  },
  {
   "cell_type": "code",
   "execution_count": null,
   "metadata": {
    "collapsed": true
   },
   "outputs": [],
   "source": []
  },
  {
   "cell_type": "code",
   "execution_count": 9,
   "metadata": {
    "ExecuteTime": {
     "end_time": "2017-09-15T10:28:49.506789Z",
     "start_time": "2017-09-15T10:28:49.502223Z"
    }
   },
   "outputs": [
    {
     "data": {
      "text/plain": [
       "3 feedlog(s) with a total of 90 flies.\n",
       "4 genotype(s) detected ['w1118' 'w1118;Trh-Gal4' 'w1118;UAS-Gz-TrpA1;Trh-Zal'\n",
       " 'Trh-Gal4>UAS-GZ-TrpA1_Trh-ZAL'].\n",
       "3 temperature(s) detected [25 22 29].\n",
       "1 foodtype(s) detected ['5% sucrose + 5% yeast extract']."
      ]
     },
     "execution_count": 9,
     "metadata": {},
     "output_type": "execute_result"
    }
   ],
   "source": [
    "# s29.add_label(label_name='label2',label_value='test2')\n",
    "s29"
   ]
  },
  {
   "cell_type": "code",
   "execution_count": null,
   "metadata": {
    "collapsed": true
   },
   "outputs": [],
   "source": []
  },
  {
   "cell_type": "code",
   "execution_count": 14,
   "metadata": {
    "ExecuteTime": {
     "end_time": "2017-09-15T10:32:10.887732Z",
     "start_time": "2017-09-15T10:32:10.822909Z"
    }
   },
   "outputs": [
    {
     "data": {
      "text/plain": [
       "4 feedlog(s) with a total of 180 flies.\n",
       "4 genotype(s) detected ['w1118' 'w1118;Trh-Gal4' 'w1118;UAS-Gz-TrpA1;Trh-Zal'\n",
       " 'Trh-Gal4>UAS-GZ-TrpA1_Trh-ZAL'].\n",
       "3 temperature(s) detected [25 22 29].\n",
       "1 foodtype(s) detected ['5% sucrose + 5% yeast extract'].\n",
       "1 label(s) have been added: ['label1']"
      ]
     },
     "execution_count": 14,
     "metadata": {},
     "output_type": "execute_result"
    }
   ],
   "source": [
    "supersum=s22+s29\n",
    "supersum"
   ]
  },
  {
   "cell_type": "code",
   "execution_count": null,
   "metadata": {
    "collapsed": true
   },
   "outputs": [],
   "source": []
  },
  {
   "cell_type": "code",
   "execution_count": 15,
   "metadata": {
    "ExecuteTime": {
     "end_time": "2017-09-15T10:32:18.181675Z",
     "start_time": "2017-09-15T10:32:18.079857Z"
    }
   },
   "outputs": [
    {
     "data": {
      "text/plain": [
       "4 feedlog(s) with a total of 240 flies.\n",
       "4 genotype(s) detected ['w1118' 'w1118;Trh-Gal4' 'w1118;UAS-Gz-TrpA1;Trh-Zal'\n",
       " 'Trh-Gal4>UAS-GZ-TrpA1_Trh-ZAL'].\n",
       "3 temperature(s) detected [25 22 29].\n",
       "1 foodtype(s) detected ['5% sucrose + 5% yeast extract'].\n",
       "2 label(s) have been added: ['label1', 'PlotGroup']"
      ]
     },
     "execution_count": 15,
     "metadata": {},
     "output_type": "execute_result"
    }
   ],
   "source": [
    "megasum=supersum+trh\n",
    "megasum"
   ]
  },
  {
   "cell_type": "code",
   "execution_count": 19,
   "metadata": {
    "ExecuteTime": {
     "end_time": "2017-09-15T10:38:38.361283Z",
     "start_time": "2017-09-15T10:38:38.356043Z"
    }
   },
   "outputs": [
    {
     "data": {
      "text/plain": [
       "25114"
      ]
     },
     "execution_count": 19,
     "metadata": {},
     "output_type": "execute_result"
    }
   ],
   "source": [
    "len(megasum.feeds)"
   ]
  },
  {
   "cell_type": "code",
   "execution_count": 24,
   "metadata": {
    "ExecuteTime": {
     "end_time": "2017-09-15T10:43:10.195922Z",
     "start_time": "2017-09-15T10:43:10.140757Z"
    }
   },
   "outputs": [
    {
     "data": {
      "text/plain": [
       "12557"
      ]
     },
     "execution_count": 24,
     "metadata": {},
     "output_type": "execute_result"
    }
   ],
   "source": [
    "len( megasum.feeds.drop(megasum.added_labels, axis=1).drop_duplicates() )"
   ]
  },
  {
   "cell_type": "code",
   "execution_count": null,
   "metadata": {
    "collapsed": true
   },
   "outputs": [],
   "source": []
  }
 ],
 "metadata": {
  "kernelspec": {
   "display_name": "Python 3.6",
   "language": "python",
   "name": "python3"
  },
  "language_info": {
   "codemirror_mode": {
    "name": "ipython",
    "version": 3
   },
   "file_extension": ".py",
   "mimetype": "text/x-python",
   "name": "python",
   "nbconvert_exporter": "python",
   "pygments_lexer": "ipython3",
   "version": "3.6.1"
  }
 },
 "nbformat": 4,
 "nbformat_minor": 2
}
