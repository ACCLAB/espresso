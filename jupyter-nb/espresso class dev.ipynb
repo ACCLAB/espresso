{
 "cells": [
  {
   "cell_type": "markdown",
   "metadata": {},
   "source": [
    "## Import Libraries"
   ]
  },
  {
   "cell_type": "code",
   "execution_count": 1,
   "metadata": {
    "ExecuteTime": {
     "end_time": "2017-09-16T08:31:03.936644Z",
     "start_time": "2017-09-16T08:31:00.151038Z"
    }
   },
   "outputs": [
    {
     "name": "stderr",
     "output_type": "stream",
     "text": [
      "/home/joseshowh/miniconda3/lib/python3.6/site-packages/seaborn/apionly.py:6: UserWarning: As seaborn no longer sets a default style on import, the seaborn.apionly module is deprecated. It will be removed in a future version.\n",
      "  warnings.warn(msg, UserWarning)\n"
     ]
    }
   ],
   "source": [
    "import sys\n",
    "sys.path.append(\"..\") # so we can import espresso from the directory above.\n",
    "import os\n",
    "\n",
    "import numpy as np\n",
    "import scipy as sp\n",
    "import pandas as pd\n",
    "import matplotlib as mpl\n",
    "import matplotlib.pyplot as plt\n",
    "%matplotlib inline\n",
    "\n",
    "import seaborn as sns\n",
    "import bootstrap_contrast as bsc\n",
    "\n",
    "import espresso as esp"
   ]
  },
  {
   "cell_type": "markdown",
   "metadata": {},
   "source": [
    "## Create espresso instance"
   ]
  },
  {
   "cell_type": "code",
   "execution_count": 4,
   "metadata": {
    "ExecuteTime": {
     "end_time": "2017-09-16T08:35:21.829225Z",
     "start_time": "2017-09-16T08:35:16.225011Z"
    }
   },
   "outputs": [],
   "source": [
    "git_repo_folder='/home/joseshowh/git-repos/espresso'\n",
    "datadir1=os.path.join(git_repo_folder,'data/by_genotype/Trh-Gal4-Trh-Zal-UAS-GZ-TrpA1/22')\n",
    "datadir2=os.path.join(git_repo_folder,'data/by_genotype/Trh-Gal4-Trh-Zal-UAS-GZ-TrpA1/29')\n",
    "datadir3=os.path.join(git_repo_folder,'data/starvation_gradient/24-Hrs')\n",
    "\n",
    "twotubes22=esp.espresso(folder=datadir1)\n",
    "twotubes29=esp.espresso(folder=datadir2)\n",
    "starvation=esp.espresso(folder=datadir3)"
   ]
  },
  {
   "cell_type": "code",
   "execution_count": null,
   "metadata": {
    "collapsed": true
   },
   "outputs": [],
   "source": []
  },
  {
   "cell_type": "code",
   "execution_count": 5,
   "metadata": {
    "ExecuteTime": {
     "end_time": "2017-09-16T08:35:24.994878Z",
     "start_time": "2017-09-16T08:35:24.976397Z"
    }
   },
   "outputs": [
    {
     "data": {
      "text/plain": [
       "2 feedlog(s) with a total of 60 flies.\n",
       "1 genotype(s) detected ['w1118'].\n",
       "2 temperature(s) detected [22 25].\n",
       "1 foodtype(s) detected ['5% sucrose + 5% yeast extract']."
      ]
     },
     "execution_count": 5,
     "metadata": {},
     "output_type": "execute_result"
    }
   ],
   "source": [
    "starvation"
   ]
  },
  {
   "cell_type": "code",
   "execution_count": 6,
   "metadata": {
    "ExecuteTime": {
     "end_time": "2017-09-16T08:35:27.265302Z",
     "start_time": "2017-09-16T08:35:27.253004Z"
    }
   },
   "outputs": [
    {
     "data": {
      "text/plain": [
       "1 feedlog(s) with a total of 30 flies.\n",
       "3 genotype(s) detected ['w1118;Trh-Gal4' 'w1118;UAS-Gz-TrpA1;Trh-Zal'\n",
       " 'Trh-Gal4>UAS-GZ-TrpA1_Trh-ZAL'].\n",
       "1 temperature(s) detected [22].\n",
       "1 foodtype(s) detected ['5% sucrose + 5% yeast extract']."
      ]
     },
     "execution_count": 6,
     "metadata": {},
     "output_type": "execute_result"
    }
   ],
   "source": [
    "twotubes22"
   ]
  },
  {
   "cell_type": "code",
   "execution_count": 7,
   "metadata": {
    "ExecuteTime": {
     "end_time": "2017-09-16T08:35:30.845136Z",
     "start_time": "2017-09-16T08:35:30.830195Z"
    }
   },
   "outputs": [
    {
     "data": {
      "text/plain": [
       "1 feedlog(s) with a total of 30 flies.\n",
       "3 genotype(s) detected ['w1118;Trh-Gal4' 'w1118;UAS-Gz-TrpA1;Trh-Zal'\n",
       " 'Trh-Gal4>UAS-GZ-TrpA1_Trh-ZAL'].\n",
       "1 temperature(s) detected [29].\n",
       "1 foodtype(s) detected ['5% sucrose + 5% yeast extract']."
      ]
     },
     "execution_count": 7,
     "metadata": {},
     "output_type": "execute_result"
    }
   ],
   "source": [
    "twotubes29"
   ]
  },
  {
   "cell_type": "code",
   "execution_count": null,
   "metadata": {
    "collapsed": true
   },
   "outputs": [],
   "source": []
  },
  {
   "cell_type": "code",
   "execution_count": 8,
   "metadata": {
    "ExecuteTime": {
     "end_time": "2017-09-16T08:36:57.266196Z",
     "start_time": "2017-09-16T08:36:38.735355Z"
    }
   },
   "outputs": [
    {
     "name": "stdout",
     "output_type": "stream",
     "text": [
      "PlotGroup has been added as a new label. The values were created by concatenating the columns ['Genotype', 'Temperature'].\n"
     ]
    },
    {
     "data": {
      "text/plain": [
       "2 feedlog(s) with a total of 60 flies.\n",
       "3 genotype(s) detected ['w1118;Trh-Gal4' 'w1118;UAS-Gz-TrpA1;Trh-Zal'\n",
       " 'Trh-Gal4>UAS-GZ-TrpA1_Trh-ZAL'].\n",
       "2 temperature(s) detected [22 29].\n",
       "1 foodtype(s) detected ['5% sucrose + 5% yeast extract'].\n",
       "1 label(s) have been added: ['PlotGroup']"
      ]
     },
     "execution_count": 8,
     "metadata": {},
     "output_type": "execute_result"
    }
   ],
   "source": [
    "trh=twotubes22+twotubes29\n",
    "trh.add_label(label_name='PlotGroup',label_from_cols=['Genotype','Temperature'])\n",
    "trh"
   ]
  },
  {
   "cell_type": "markdown",
   "metadata": {
    "collapsed": true
   },
   "source": [
    "## Test addition of espresso objects"
   ]
  },
  {
   "cell_type": "code",
   "execution_count": 9,
   "metadata": {
    "ExecuteTime": {
     "end_time": "2017-09-16T08:37:02.611034Z",
     "start_time": "2017-09-16T08:37:02.279022Z"
    },
    "collapsed": true
   },
   "outputs": [],
   "source": [
    "s22=starvation+twotubes22\n",
    "s29=starvation+twotubes29"
   ]
  },
  {
   "cell_type": "code",
   "execution_count": 10,
   "metadata": {
    "ExecuteTime": {
     "end_time": "2017-09-16T08:37:31.284117Z",
     "start_time": "2017-09-16T08:37:31.237818Z"
    }
   },
   "outputs": [
    {
     "name": "stdout",
     "output_type": "stream",
     "text": [
      "label1 has been added as a new label, with 'test1' as the custom value.\n"
     ]
    },
    {
     "data": {
      "text/plain": [
       "3 feedlog(s) with a total of 90 flies.\n",
       "4 genotype(s) detected ['w1118' 'w1118;Trh-Gal4' 'w1118;UAS-Gz-TrpA1;Trh-Zal'\n",
       " 'Trh-Gal4>UAS-GZ-TrpA1_Trh-ZAL'].\n",
       "2 temperature(s) detected [22 25].\n",
       "1 foodtype(s) detected ['5% sucrose + 5% yeast extract'].\n",
       "1 label(s) have been added: ['label1']"
      ]
     },
     "execution_count": 10,
     "metadata": {},
     "output_type": "execute_result"
    }
   ],
   "source": [
    "s22.add_label(label_name='label1',label_value='test1')\n",
    "s22"
   ]
  },
  {
   "cell_type": "code",
   "execution_count": null,
   "metadata": {
    "collapsed": true
   },
   "outputs": [],
   "source": []
  },
  {
   "cell_type": "code",
   "execution_count": 11,
   "metadata": {
    "ExecuteTime": {
     "end_time": "2017-09-16T08:37:34.558061Z",
     "start_time": "2017-09-16T08:37:34.509233Z"
    }
   },
   "outputs": [
    {
     "name": "stdout",
     "output_type": "stream",
     "text": [
      "label2 has been added as a new label, with 'test2' as the custom value.\n"
     ]
    },
    {
     "data": {
      "text/plain": [
       "3 feedlog(s) with a total of 90 flies.\n",
       "4 genotype(s) detected ['w1118' 'w1118;Trh-Gal4' 'w1118;UAS-Gz-TrpA1;Trh-Zal'\n",
       " 'Trh-Gal4>UAS-GZ-TrpA1_Trh-ZAL'].\n",
       "3 temperature(s) detected [22 25 29].\n",
       "1 foodtype(s) detected ['5% sucrose + 5% yeast extract'].\n",
       "1 label(s) have been added: ['label2']"
      ]
     },
     "execution_count": 11,
     "metadata": {},
     "output_type": "execute_result"
    }
   ],
   "source": [
    "s29.add_label(label_name='label2',label_value='test2')\n",
    "s29"
   ]
  },
  {
   "cell_type": "code",
   "execution_count": null,
   "metadata": {
    "collapsed": true
   },
   "outputs": [],
   "source": []
  },
  {
   "cell_type": "code",
   "execution_count": null,
   "metadata": {
    "collapsed": true
   },
   "outputs": [],
   "source": []
  },
  {
   "cell_type": "code",
   "execution_count": 12,
   "metadata": {
    "ExecuteTime": {
     "end_time": "2017-09-16T08:39:36.368736Z",
     "start_time": "2017-09-16T08:39:36.355674Z"
    },
    "collapsed": true
   },
   "outputs": [],
   "source": [
    "df1=s22.flies.head()\n",
    "df2=s29.flies.head()"
   ]
  },
  {
   "cell_type": "code",
   "execution_count": 13,
   "metadata": {
    "ExecuteTime": {
     "end_time": "2017-09-16T08:39:44.251242Z",
     "start_time": "2017-09-16T08:39:44.174758Z"
    }
   },
   "outputs": [
    {
     "data": {
      "text/html": [
       "<div>\n",
       "<style>\n",
       "    .dataframe thead tr:only-child th {\n",
       "        text-align: right;\n",
       "    }\n",
       "\n",
       "    .dataframe thead th {\n",
       "        text-align: left;\n",
       "    }\n",
       "\n",
       "    .dataframe tbody tr th {\n",
       "        vertical-align: top;\n",
       "    }\n",
       "</style>\n",
       "<table border=\"1\" class=\"dataframe\">\n",
       "  <thead>\n",
       "    <tr style=\"text-align: right;\">\n",
       "      <th></th>\n",
       "      <th>ID</th>\n",
       "      <th>Genotype</th>\n",
       "      <th>Sex</th>\n",
       "      <th>Minimum Age</th>\n",
       "      <th>Maximum Age</th>\n",
       "      <th>Tube1</th>\n",
       "      <th>Tube2</th>\n",
       "      <th>Temperature</th>\n",
       "      <th>FlyCountInChamber</th>\n",
       "      <th>AtLeastOneFeed</th>\n",
       "      <th>label1</th>\n",
       "    </tr>\n",
       "    <tr>\n",
       "      <th>FlyID</th>\n",
       "      <th></th>\n",
       "      <th></th>\n",
       "      <th></th>\n",
       "      <th></th>\n",
       "      <th></th>\n",
       "      <th></th>\n",
       "      <th></th>\n",
       "      <th></th>\n",
       "      <th></th>\n",
       "      <th></th>\n",
       "      <th></th>\n",
       "    </tr>\n",
       "  </thead>\n",
       "  <tbody>\n",
       "    <tr>\n",
       "      <th>Fly1</th>\n",
       "      <td>1</td>\n",
       "      <td>w1118</td>\n",
       "      <td>M</td>\n",
       "      <td>5</td>\n",
       "      <td>7</td>\n",
       "      <td>5% sucrose + 5% yeast extract</td>\n",
       "      <td>NaN</td>\n",
       "      <td>22</td>\n",
       "      <td>1</td>\n",
       "      <td>True</td>\n",
       "      <td>test1</td>\n",
       "    </tr>\n",
       "    <tr>\n",
       "      <th>Fly2</th>\n",
       "      <td>2</td>\n",
       "      <td>w1118</td>\n",
       "      <td>M</td>\n",
       "      <td>5</td>\n",
       "      <td>7</td>\n",
       "      <td>5% sucrose + 5% yeast extract</td>\n",
       "      <td>NaN</td>\n",
       "      <td>22</td>\n",
       "      <td>1</td>\n",
       "      <td>True</td>\n",
       "      <td>test1</td>\n",
       "    </tr>\n",
       "    <tr>\n",
       "      <th>Fly3</th>\n",
       "      <td>3</td>\n",
       "      <td>w1118</td>\n",
       "      <td>M</td>\n",
       "      <td>5</td>\n",
       "      <td>7</td>\n",
       "      <td>5% sucrose + 5% yeast extract</td>\n",
       "      <td>NaN</td>\n",
       "      <td>22</td>\n",
       "      <td>1</td>\n",
       "      <td>True</td>\n",
       "      <td>test1</td>\n",
       "    </tr>\n",
       "    <tr>\n",
       "      <th>Fly4</th>\n",
       "      <td>4</td>\n",
       "      <td>w1118</td>\n",
       "      <td>M</td>\n",
       "      <td>5</td>\n",
       "      <td>7</td>\n",
       "      <td>5% sucrose + 5% yeast extract</td>\n",
       "      <td>NaN</td>\n",
       "      <td>22</td>\n",
       "      <td>1</td>\n",
       "      <td>True</td>\n",
       "      <td>test1</td>\n",
       "    </tr>\n",
       "    <tr>\n",
       "      <th>Fly5</th>\n",
       "      <td>5</td>\n",
       "      <td>w1118</td>\n",
       "      <td>M</td>\n",
       "      <td>5</td>\n",
       "      <td>7</td>\n",
       "      <td>5% sucrose + 5% yeast extract</td>\n",
       "      <td>NaN</td>\n",
       "      <td>22</td>\n",
       "      <td>1</td>\n",
       "      <td>True</td>\n",
       "      <td>test1</td>\n",
       "    </tr>\n",
       "  </tbody>\n",
       "</table>\n",
       "</div>"
      ],
      "text/plain": [
       "       ID Genotype Sex  Minimum Age  Maximum Age  \\\n",
       "FlyID                                              \n",
       "Fly1    1    w1118   M            5            7   \n",
       "Fly2    2    w1118   M            5            7   \n",
       "Fly3    3    w1118   M            5            7   \n",
       "Fly4    4    w1118   M            5            7   \n",
       "Fly5    5    w1118   M            5            7   \n",
       "\n",
       "                               Tube1 Tube2  Temperature  FlyCountInChamber  \\\n",
       "FlyID                                                                        \n",
       "Fly1   5% sucrose + 5% yeast extract   NaN           22                  1   \n",
       "Fly2   5% sucrose + 5% yeast extract   NaN           22                  1   \n",
       "Fly3   5% sucrose + 5% yeast extract   NaN           22                  1   \n",
       "Fly4   5% sucrose + 5% yeast extract   NaN           22                  1   \n",
       "Fly5   5% sucrose + 5% yeast extract   NaN           22                  1   \n",
       "\n",
       "       AtLeastOneFeed label1  \n",
       "FlyID                         \n",
       "Fly1             True  test1  \n",
       "Fly2             True  test1  \n",
       "Fly3             True  test1  \n",
       "Fly4             True  test1  \n",
       "Fly5             True  test1  "
      ]
     },
     "execution_count": 13,
     "metadata": {},
     "output_type": "execute_result"
    }
   ],
   "source": [
    "df1"
   ]
  },
  {
   "cell_type": "code",
   "execution_count": 14,
   "metadata": {
    "ExecuteTime": {
     "end_time": "2017-09-16T08:39:50.199115Z",
     "start_time": "2017-09-16T08:39:50.130926Z"
    }
   },
   "outputs": [
    {
     "data": {
      "text/html": [
       "<div>\n",
       "<style>\n",
       "    .dataframe thead tr:only-child th {\n",
       "        text-align: right;\n",
       "    }\n",
       "\n",
       "    .dataframe thead th {\n",
       "        text-align: left;\n",
       "    }\n",
       "\n",
       "    .dataframe tbody tr th {\n",
       "        vertical-align: top;\n",
       "    }\n",
       "</style>\n",
       "<table border=\"1\" class=\"dataframe\">\n",
       "  <thead>\n",
       "    <tr style=\"text-align: right;\">\n",
       "      <th></th>\n",
       "      <th>ID</th>\n",
       "      <th>Genotype</th>\n",
       "      <th>Sex</th>\n",
       "      <th>Minimum Age</th>\n",
       "      <th>Maximum Age</th>\n",
       "      <th>Tube1</th>\n",
       "      <th>Tube2</th>\n",
       "      <th>Temperature</th>\n",
       "      <th>FlyCountInChamber</th>\n",
       "      <th>AtLeastOneFeed</th>\n",
       "      <th>label2</th>\n",
       "    </tr>\n",
       "    <tr>\n",
       "      <th>FlyID</th>\n",
       "      <th></th>\n",
       "      <th></th>\n",
       "      <th></th>\n",
       "      <th></th>\n",
       "      <th></th>\n",
       "      <th></th>\n",
       "      <th></th>\n",
       "      <th></th>\n",
       "      <th></th>\n",
       "      <th></th>\n",
       "      <th></th>\n",
       "    </tr>\n",
       "  </thead>\n",
       "  <tbody>\n",
       "    <tr>\n",
       "      <th>Fly1</th>\n",
       "      <td>1</td>\n",
       "      <td>w1118</td>\n",
       "      <td>M</td>\n",
       "      <td>5</td>\n",
       "      <td>7</td>\n",
       "      <td>5% sucrose + 5% yeast extract</td>\n",
       "      <td>NaN</td>\n",
       "      <td>22</td>\n",
       "      <td>1</td>\n",
       "      <td>True</td>\n",
       "      <td>test2</td>\n",
       "    </tr>\n",
       "    <tr>\n",
       "      <th>Fly2</th>\n",
       "      <td>2</td>\n",
       "      <td>w1118</td>\n",
       "      <td>M</td>\n",
       "      <td>5</td>\n",
       "      <td>7</td>\n",
       "      <td>5% sucrose + 5% yeast extract</td>\n",
       "      <td>NaN</td>\n",
       "      <td>22</td>\n",
       "      <td>1</td>\n",
       "      <td>True</td>\n",
       "      <td>test2</td>\n",
       "    </tr>\n",
       "    <tr>\n",
       "      <th>Fly3</th>\n",
       "      <td>3</td>\n",
       "      <td>w1118</td>\n",
       "      <td>M</td>\n",
       "      <td>5</td>\n",
       "      <td>7</td>\n",
       "      <td>5% sucrose + 5% yeast extract</td>\n",
       "      <td>NaN</td>\n",
       "      <td>22</td>\n",
       "      <td>1</td>\n",
       "      <td>True</td>\n",
       "      <td>test2</td>\n",
       "    </tr>\n",
       "    <tr>\n",
       "      <th>Fly4</th>\n",
       "      <td>4</td>\n",
       "      <td>w1118</td>\n",
       "      <td>M</td>\n",
       "      <td>5</td>\n",
       "      <td>7</td>\n",
       "      <td>5% sucrose + 5% yeast extract</td>\n",
       "      <td>NaN</td>\n",
       "      <td>22</td>\n",
       "      <td>1</td>\n",
       "      <td>True</td>\n",
       "      <td>test2</td>\n",
       "    </tr>\n",
       "    <tr>\n",
       "      <th>Fly5</th>\n",
       "      <td>5</td>\n",
       "      <td>w1118</td>\n",
       "      <td>M</td>\n",
       "      <td>5</td>\n",
       "      <td>7</td>\n",
       "      <td>5% sucrose + 5% yeast extract</td>\n",
       "      <td>NaN</td>\n",
       "      <td>22</td>\n",
       "      <td>1</td>\n",
       "      <td>True</td>\n",
       "      <td>test2</td>\n",
       "    </tr>\n",
       "  </tbody>\n",
       "</table>\n",
       "</div>"
      ],
      "text/plain": [
       "       ID Genotype Sex  Minimum Age  Maximum Age  \\\n",
       "FlyID                                              \n",
       "Fly1    1    w1118   M            5            7   \n",
       "Fly2    2    w1118   M            5            7   \n",
       "Fly3    3    w1118   M            5            7   \n",
       "Fly4    4    w1118   M            5            7   \n",
       "Fly5    5    w1118   M            5            7   \n",
       "\n",
       "                               Tube1 Tube2  Temperature  FlyCountInChamber  \\\n",
       "FlyID                                                                        \n",
       "Fly1   5% sucrose + 5% yeast extract   NaN           22                  1   \n",
       "Fly2   5% sucrose + 5% yeast extract   NaN           22                  1   \n",
       "Fly3   5% sucrose + 5% yeast extract   NaN           22                  1   \n",
       "Fly4   5% sucrose + 5% yeast extract   NaN           22                  1   \n",
       "Fly5   5% sucrose + 5% yeast extract   NaN           22                  1   \n",
       "\n",
       "       AtLeastOneFeed label2  \n",
       "FlyID                         \n",
       "Fly1             True  test2  \n",
       "Fly2             True  test2  \n",
       "Fly3             True  test2  \n",
       "Fly4             True  test2  \n",
       "Fly5             True  test2  "
      ]
     },
     "execution_count": 14,
     "metadata": {},
     "output_type": "execute_result"
    }
   ],
   "source": [
    "df2"
   ]
  },
  {
   "cell_type": "code",
   "execution_count": null,
   "metadata": {
    "collapsed": true
   },
   "outputs": [],
   "source": [
    "pd.merge(df1, df2, how=)"
   ]
  },
  {
   "cell_type": "code",
   "execution_count": null,
   "metadata": {
    "collapsed": true
   },
   "outputs": [],
   "source": []
  },
  {
   "cell_type": "code",
   "execution_count": 14,
   "metadata": {
    "ExecuteTime": {
     "end_time": "2017-09-15T10:32:10.887732Z",
     "start_time": "2017-09-15T10:32:10.822909Z"
    }
   },
   "outputs": [
    {
     "data": {
      "text/plain": [
       "4 feedlog(s) with a total of 180 flies.\n",
       "4 genotype(s) detected ['w1118' 'w1118;Trh-Gal4' 'w1118;UAS-Gz-TrpA1;Trh-Zal'\n",
       " 'Trh-Gal4>UAS-GZ-TrpA1_Trh-ZAL'].\n",
       "3 temperature(s) detected [25 22 29].\n",
       "1 foodtype(s) detected ['5% sucrose + 5% yeast extract'].\n",
       "1 label(s) have been added: ['label1']"
      ]
     },
     "execution_count": 14,
     "metadata": {},
     "output_type": "execute_result"
    }
   ],
   "source": [
    "supersum=s22+s29\n",
    "supersum"
   ]
  },
  {
   "cell_type": "code",
   "execution_count": null,
   "metadata": {
    "collapsed": true
   },
   "outputs": [],
   "source": []
  },
  {
   "cell_type": "code",
   "execution_count": 15,
   "metadata": {
    "ExecuteTime": {
     "end_time": "2017-09-15T10:32:18.181675Z",
     "start_time": "2017-09-15T10:32:18.079857Z"
    }
   },
   "outputs": [
    {
     "data": {
      "text/plain": [
       "4 feedlog(s) with a total of 240 flies.\n",
       "4 genotype(s) detected ['w1118' 'w1118;Trh-Gal4' 'w1118;UAS-Gz-TrpA1;Trh-Zal'\n",
       " 'Trh-Gal4>UAS-GZ-TrpA1_Trh-ZAL'].\n",
       "3 temperature(s) detected [25 22 29].\n",
       "1 foodtype(s) detected ['5% sucrose + 5% yeast extract'].\n",
       "2 label(s) have been added: ['label1', 'PlotGroup']"
      ]
     },
     "execution_count": 15,
     "metadata": {},
     "output_type": "execute_result"
    }
   ],
   "source": [
    "megasum=supersum+trh\n",
    "megasum"
   ]
  },
  {
   "cell_type": "code",
   "execution_count": 19,
   "metadata": {
    "ExecuteTime": {
     "end_time": "2017-09-15T10:38:38.361283Z",
     "start_time": "2017-09-15T10:38:38.356043Z"
    }
   },
   "outputs": [
    {
     "data": {
      "text/plain": [
       "25114"
      ]
     },
     "execution_count": 19,
     "metadata": {},
     "output_type": "execute_result"
    }
   ],
   "source": [
    "len(megasum.feeds)"
   ]
  },
  {
   "cell_type": "code",
   "execution_count": 24,
   "metadata": {
    "ExecuteTime": {
     "end_time": "2017-09-15T10:43:10.195922Z",
     "start_time": "2017-09-15T10:43:10.140757Z"
    }
   },
   "outputs": [
    {
     "data": {
      "text/plain": [
       "12557"
      ]
     },
     "execution_count": 24,
     "metadata": {},
     "output_type": "execute_result"
    }
   ],
   "source": [
    "len( megasum.feeds.drop(megasum.added_labels, axis=1).drop_duplicates() )"
   ]
  },
  {
   "cell_type": "code",
   "execution_count": null,
   "metadata": {
    "collapsed": true
   },
   "outputs": [],
   "source": []
  }
 ],
 "metadata": {
  "kernelspec": {
   "display_name": "Python 3",
   "language": "python",
   "name": "python3"
  },
  "language_info": {
   "codemirror_mode": {
    "name": "ipython",
    "version": 3
   },
   "file_extension": ".py",
   "mimetype": "text/x-python",
   "name": "python",
   "nbconvert_exporter": "python",
   "pygments_lexer": "ipython3",
   "version": "3.6.1"
  }
 },
 "nbformat": 4,
 "nbformat_minor": 2
}
