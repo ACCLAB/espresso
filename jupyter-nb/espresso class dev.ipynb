{
 "cells": [
  {
   "cell_type": "markdown",
   "metadata": {},
   "source": [
    "## Import Libraries"
   ]
  },
  {
   "cell_type": "code",
   "execution_count": 1,
   "metadata": {
    "ExecuteTime": {
     "end_time": "2017-09-15T06:15:12.292687Z",
     "start_time": "2017-09-15T06:15:11.233494Z"
    }
   },
   "outputs": [
    {
     "name": "stderr",
     "output_type": "stream",
     "text": [
      "/Users/josesho/anaconda3/envs/py3.6/lib/python3.6/site-packages/seaborn/apionly.py:6: UserWarning: As seaborn no longer sets a default style on import, the seaborn.apionly module is deprecated. It will be removed in a future version.\n",
      "  warnings.warn(msg, UserWarning)\n"
     ]
    }
   ],
   "source": [
    "import sys\n",
    "import os\n",
    "\n",
    "import numpy as np\n",
    "import scipy as sp\n",
    "import pandas as pd\n",
    "\n",
    "import bootstrap_contrast as bsc\n",
    "\n",
    "import espresso as esp"
   ]
  },
  {
   "cell_type": "markdown",
   "metadata": {},
   "source": [
    "## Create espresso instance"
   ]
  },
  {
   "cell_type": "code",
   "execution_count": 2,
   "metadata": {
    "ExecuteTime": {
     "end_time": "2017-09-15T06:15:13.503407Z",
     "start_time": "2017-09-15T06:15:12.294193Z"
    }
   },
   "outputs": [],
   "source": [
    "datadir1='/Users/josesho/bin/espresso_data/by_genotype/Trh-Gal4-Trh-Zal-UAS-GZ-TrpA1/22'\n",
    "datadir2='/Users/josesho/bin/espresso_data/by_genotype/Trh-Gal4-Trh-Zal-UAS-GZ-TrpA1/29'\n",
    "datadir3='/Users/josesho/bin/espresso_data/starvation_gradient/24-Hrs'\n",
    "\n",
    "twotubes22=esp.espresso(folder=datadir1)\n",
    "twotubes29=esp.espresso(folder=datadir2)\n",
    "starvation=esp.espresso(folder=datadir3)"
   ]
  },
  {
   "cell_type": "code",
   "execution_count": 3,
   "metadata": {
    "ExecuteTime": {
     "end_time": "2017-09-15T06:15:13.540180Z",
     "start_time": "2017-09-15T06:15:13.505380Z"
    },
    "collapsed": true
   },
   "outputs": [],
   "source": [
    "new=twotubes22+twotubes29+starvation"
   ]
  },
  {
   "cell_type": "code",
   "execution_count": 4,
   "metadata": {
    "ExecuteTime": {
     "end_time": "2017-09-15T06:15:13.548063Z",
     "start_time": "2017-09-15T06:15:13.541717Z"
    }
   },
   "outputs": [
    {
     "data": {
      "text/plain": [
       "1 feedlog(s) with a total of 120 flies.\n",
       "4 genotype(s) detected ['w1118;Trh-Gal4' 'w1118;UAS-Gz-TrpA1;Trh-Zal'\n",
       " 'Trh-Gal4>UAS-GZ-TrpA1_Trh-ZAL' 'w1118'].\n",
       "3 temperature(s) detected [22 29 25].\n",
       "1 foodtype(s) detected ['5% sucrose + 5% yeast extract']."
      ]
     },
     "execution_count": 4,
     "metadata": {},
     "output_type": "execute_result"
    }
   ],
   "source": [
    "new"
   ]
  },
  {
   "cell_type": "code",
   "execution_count": null,
   "metadata": {
    "collapsed": true
   },
   "outputs": [],
   "source": []
  }
 ],
 "metadata": {
  "kernelspec": {
   "display_name": "Python 3.6",
   "language": "python",
   "name": "python3"
  },
  "language_info": {
   "codemirror_mode": {
    "name": "ipython",
    "version": 3
   },
   "file_extension": ".py",
   "mimetype": "text/x-python",
   "name": "python",
   "nbconvert_exporter": "python",
   "pygments_lexer": "ipython3",
   "version": "3.6.1"
  }
 },
 "nbformat": 4,
 "nbformat_minor": 2
}
