{
 "cells": [
  {
   "cell_type": "markdown",
   "metadata": {
    "ExecuteTime": {
     "end_time": "2017-09-25T03:43:40.653798Z",
     "start_time": "2017-09-25T03:43:40.648660Z"
    },
    "heading_collapsed": true
   },
   "source": [
    "## Import Libraries"
   ]
  },
  {
   "cell_type": "code",
   "execution_count": 1,
   "metadata": {
    "ExecuteTime": {
     "end_time": "2017-10-05T09:16:56.261678Z",
     "start_time": "2017-10-05T09:16:54.646413Z"
    },
    "hidden": true
   },
   "outputs": [
    {
     "name": "stderr",
     "output_type": "stream",
     "text": [
      "/Users/josesho/anaconda3/envs/py3.6/lib/python3.6/site-packages/seaborn/apionly.py:6: UserWarning: As seaborn no longer sets a default style on import, the seaborn.apionly module is deprecated. It will be removed in a future version.\n",
      "  warnings.warn(msg, UserWarning)\n"
     ]
    }
   ],
   "source": [
    "import sys\n",
    "sys.path.append(\"..\") # so we can import espresso from the directory above.\n",
    "import os\n",
    "\n",
    "import numpy as np\n",
    "import scipy as sp\n",
    "import pandas as pd\n",
    "import matplotlib as mpl\n",
    "import matplotlib.pyplot as plt\n",
    "%matplotlib inline\n",
    "\n",
    "import seaborn as sns\n",
    "import bootstrap_contrast as bsc\n",
    "\n",
    "import espresso as esp"
   ]
  },
  {
   "cell_type": "markdown",
   "metadata": {
    "heading_collapsed": true
   },
   "source": [
    "## Create Espresso Instances"
   ]
  },
  {
   "cell_type": "code",
   "execution_count": 3,
   "metadata": {
    "ExecuteTime": {
     "end_time": "2017-10-05T09:19:36.493889Z",
     "start_time": "2017-10-05T09:19:32.766686Z"
    },
    "collapsed": true,
    "hidden": true
   },
   "outputs": [],
   "source": [
    "data_folder='/Users/josesho/bin/git-repos/espresso/data'\n",
    "\n",
    "mb312b_folder=os.path.join(data_folder,'by_genotype/MB312B')\n",
    "mb213b_folder=os.path.join(data_folder,'by_genotype/MB213B')\n",
    "\n",
    "mb312b=esp.espresso(mb312b_folder)\n",
    "mb213b=esp.espresso(mb213b_folder)"
   ]
  },
  {
   "cell_type": "markdown",
   "metadata": {},
   "source": [
    "## Plot Development"
   ]
  },
  {
   "cell_type": "code",
   "execution_count": 4,
   "metadata": {
    "ExecuteTime": {
     "end_time": "2017-10-05T09:19:39.287645Z",
     "start_time": "2017-10-05T09:19:39.280146Z"
    }
   },
   "outputs": [
    {
     "data": {
      "text/plain": [
       "4 feedlogs with a total of 120 flies.\n",
       "3 genotypes ['w1118;MB213B-Gal4' 'MB213B-Gal4>UAS-TrpA1' 'w1118;UAS-TrpA1'].\n",
       "2 temperatures [22 29].\n",
       "2 foodtypes ['100mM_Sucrose' '100mM_Sucrose_100mM_Arabinose']."
      ]
     },
     "execution_count": 4,
     "metadata": {},
     "output_type": "execute_result"
    }
   ],
   "source": [
    "mb213b"
   ]
  },
  {
   "cell_type": "code",
   "execution_count": 7,
   "metadata": {
    "ExecuteTime": {
     "end_time": "2017-10-05T09:19:47.780258Z",
     "start_time": "2017-10-05T09:19:47.775113Z"
    },
    "collapsed": true
   },
   "outputs": [],
   "source": [
    "df=mb213b.feeds.copy()"
   ]
  },
  {
   "cell_type": "code",
   "execution_count": 8,
   "metadata": {
    "ExecuteTime": {
     "end_time": "2017-10-05T09:19:53.436371Z",
     "start_time": "2017-10-05T09:19:53.431731Z"
    },
    "collapsed": true
   },
   "outputs": [],
   "source": [
    "compare_by='Temperature'\n",
    "group_by=['Genotype','FoodChoice']\n",
    "color_by='Genotype'"
   ]
  },
  {
   "cell_type": "code",
   "execution_count": 9,
   "metadata": {
    "ExecuteTime": {
     "end_time": "2017-10-05T09:19:55.165311Z",
     "start_time": "2017-10-05T09:19:55.159342Z"
    },
    "collapsed": true
   },
   "outputs": [],
   "source": [
    "new_grps=[ i for i in group_by ]\n",
    "\n",
    "new_grps.append(compare_by)\n",
    "new_grps.append(color_by)\n",
    "\n",
    "new_grps=np.unique(new_grps)"
   ]
  },
  {
   "cell_type": "code",
   "execution_count": 10,
   "metadata": {
    "ExecuteTime": {
     "end_time": "2017-10-05T09:19:55.350041Z",
     "start_time": "2017-10-05T09:19:55.345812Z"
    }
   },
   "outputs": [
    {
     "data": {
      "text/plain": [
       "array(['FoodChoice', 'Genotype', 'Temperature'],\n",
       "      dtype='<U11')"
      ]
     },
     "execution_count": 10,
     "metadata": {},
     "output_type": "execute_result"
    }
   ],
   "source": [
    "new_grps"
   ]
  },
  {
   "cell_type": "code",
   "execution_count": 24,
   "metadata": {
    "ExecuteTime": {
     "end_time": "2017-10-05T04:46:45.952028Z",
     "start_time": "2017-10-05T04:46:45.945324Z"
    }
   },
   "outputs": [
    {
     "data": {
      "text/plain": [
       "Index(['StartTime', 'StartFrame', 'FeedTubeIdx', 'FlyID', 'ChoiceIdx',\n",
       "       'AviFile', 'FeedVol_µl', 'FeedDuration_ms', 'Evap-mm3/s', 'Valid',\n",
       "       'RelativeTime_s', 'ExperimentState', 'FeedVol_nl', 'FeedSpeed_nl/s',\n",
       "       'FeedDuration_s', 'Genotype', 'Sex', 'Minimum Age', 'Maximum Age',\n",
       "       'Tube1', 'Tube2', 'Temperature', 'FlyCountInChamber',\n",
       "       'AverageFeedVolumePerFly_µl', 'AverageFeedCountPerFly',\n",
       "       'AverageFeedSpeedPerFly_µl/s', 'FoodChoice', 'FeedLog_rawfile'],\n",
       "      dtype='object')"
      ]
     },
     "execution_count": 24,
     "metadata": {},
     "output_type": "execute_result"
    }
   ],
   "source": [
    "df.columns"
   ]
  },
  {
   "cell_type": "code",
   "execution_count": 124,
   "metadata": {
    "ExecuteTime": {
     "end_time": "2017-10-05T08:02:13.176466Z",
     "start_time": "2017-10-05T08:02:13.132346Z"
    },
    "scrolled": true
   },
   "outputs": [
    {
     "data": {
      "text/html": [
       "<div>\n",
       "<style>\n",
       "    .dataframe thead tr:only-child th {\n",
       "        text-align: right;\n",
       "    }\n",
       "\n",
       "    .dataframe thead th {\n",
       "        text-align: left;\n",
       "    }\n",
       "\n",
       "    .dataframe tbody tr th {\n",
       "        vertical-align: top;\n",
       "    }\n",
       "</style>\n",
       "<table border=\"1\" class=\"dataframe\">\n",
       "  <thead>\n",
       "    <tr style=\"text-align: right;\">\n",
       "      <th></th>\n",
       "      <th>StartTime</th>\n",
       "      <th>StartFrame</th>\n",
       "      <th>FeedTubeIdx</th>\n",
       "      <th>FlyID</th>\n",
       "      <th>ChoiceIdx</th>\n",
       "      <th>AviFile</th>\n",
       "      <th>FeedVol_µl</th>\n",
       "      <th>FeedDuration_ms</th>\n",
       "      <th>Evap-mm3/s</th>\n",
       "      <th>Valid</th>\n",
       "      <th>...</th>\n",
       "      <th>Maximum Age</th>\n",
       "      <th>Tube1</th>\n",
       "      <th>Tube2</th>\n",
       "      <th>Temperature</th>\n",
       "      <th>FlyCountInChamber</th>\n",
       "      <th>AverageFeedVolumePerFly_µl</th>\n",
       "      <th>AverageFeedCountPerFly</th>\n",
       "      <th>AverageFeedSpeedPerFly_µl/s</th>\n",
       "      <th>FoodChoice</th>\n",
       "      <th>FeedLog_rawfile</th>\n",
       "    </tr>\n",
       "  </thead>\n",
       "  <tbody>\n",
       "    <tr>\n",
       "      <th>213</th>\n",
       "      <td>NaN</td>\n",
       "      <td>NaN</td>\n",
       "      <td>0</td>\n",
       "      <td>2017-02-24_12-05-01_Fly11</td>\n",
       "      <td>0</td>\n",
       "      <td>NIL</td>\n",
       "      <td>NaN</td>\n",
       "      <td>NaN</td>\n",
       "      <td>NaN</td>\n",
       "      <td>False</td>\n",
       "      <td>...</td>\n",
       "      <td>7</td>\n",
       "      <td>100mM_Sucrose</td>\n",
       "      <td>100mM_Sucrose_100mM_Arabinose</td>\n",
       "      <td>22</td>\n",
       "      <td>1</td>\n",
       "      <td>NaN</td>\n",
       "      <td>0.0</td>\n",
       "      <td>NaN</td>\n",
       "      <td>100mM_Sucrose</td>\n",
       "      <td>FeedLog_2017-03-09_13-17-09_MB213B-Gal4-UAS-Tr...</td>\n",
       "    </tr>\n",
       "    <tr>\n",
       "      <th>215</th>\n",
       "      <td>NaN</td>\n",
       "      <td>NaN</td>\n",
       "      <td>1</td>\n",
       "      <td>2017-02-24_12-05-01_Fly11</td>\n",
       "      <td>1</td>\n",
       "      <td>NIL</td>\n",
       "      <td>NaN</td>\n",
       "      <td>NaN</td>\n",
       "      <td>NaN</td>\n",
       "      <td>False</td>\n",
       "      <td>...</td>\n",
       "      <td>7</td>\n",
       "      <td>100mM_Sucrose</td>\n",
       "      <td>100mM_Sucrose_100mM_Arabinose</td>\n",
       "      <td>22</td>\n",
       "      <td>1</td>\n",
       "      <td>NaN</td>\n",
       "      <td>0.0</td>\n",
       "      <td>NaN</td>\n",
       "      <td>100mM_Sucrose_100mM_Arabinose</td>\n",
       "      <td>FeedLog_2017-03-09_13-17-09_MB213B-Gal4-UAS-Tr...</td>\n",
       "    </tr>\n",
       "    <tr>\n",
       "      <th>214</th>\n",
       "      <td>NaN</td>\n",
       "      <td>NaN</td>\n",
       "      <td>0</td>\n",
       "      <td>2017-02-24_12-05-01_Fly11</td>\n",
       "      <td>0</td>\n",
       "      <td>NIL</td>\n",
       "      <td>NaN</td>\n",
       "      <td>NaN</td>\n",
       "      <td>NaN</td>\n",
       "      <td>False</td>\n",
       "      <td>...</td>\n",
       "      <td>7</td>\n",
       "      <td>100mM_Sucrose</td>\n",
       "      <td>100mM_Sucrose_100mM_Arabinose</td>\n",
       "      <td>22</td>\n",
       "      <td>1</td>\n",
       "      <td>NaN</td>\n",
       "      <td>0.0</td>\n",
       "      <td>NaN</td>\n",
       "      <td>100mM_Sucrose</td>\n",
       "      <td>FeedLog_2017-03-09_13-17-09_MB213B-Gal4-UAS-Tr...</td>\n",
       "    </tr>\n",
       "    <tr>\n",
       "      <th>216</th>\n",
       "      <td>NaN</td>\n",
       "      <td>NaN</td>\n",
       "      <td>1</td>\n",
       "      <td>2017-02-24_12-05-01_Fly11</td>\n",
       "      <td>1</td>\n",
       "      <td>NIL</td>\n",
       "      <td>NaN</td>\n",
       "      <td>NaN</td>\n",
       "      <td>NaN</td>\n",
       "      <td>False</td>\n",
       "      <td>...</td>\n",
       "      <td>7</td>\n",
       "      <td>100mM_Sucrose</td>\n",
       "      <td>100mM_Sucrose_100mM_Arabinose</td>\n",
       "      <td>22</td>\n",
       "      <td>1</td>\n",
       "      <td>NaN</td>\n",
       "      <td>0.0</td>\n",
       "      <td>NaN</td>\n",
       "      <td>100mM_Sucrose_100mM_Arabinose</td>\n",
       "      <td>FeedLog_2017-03-09_13-17-09_MB213B-Gal4-UAS-Tr...</td>\n",
       "    </tr>\n",
       "  </tbody>\n",
       "</table>\n",
       "<p>4 rows × 28 columns</p>\n",
       "</div>"
      ],
      "text/plain": [
       "    StartTime  StartFrame  FeedTubeIdx                      FlyID  ChoiceIdx  \\\n",
       "213       NaN         NaN            0  2017-02-24_12-05-01_Fly11          0   \n",
       "215       NaN         NaN            1  2017-02-24_12-05-01_Fly11          1   \n",
       "214       NaN         NaN            0  2017-02-24_12-05-01_Fly11          0   \n",
       "216       NaN         NaN            1  2017-02-24_12-05-01_Fly11          1   \n",
       "\n",
       "    AviFile  FeedVol_µl  FeedDuration_ms  Evap-mm3/s  Valid  \\\n",
       "213     NIL         NaN              NaN         NaN  False   \n",
       "215     NIL         NaN              NaN         NaN  False   \n",
       "214     NIL         NaN              NaN         NaN  False   \n",
       "216     NIL         NaN              NaN         NaN  False   \n",
       "\n",
       "                           ...                          Maximum Age  \\\n",
       "213                        ...                                    7   \n",
       "215                        ...                                    7   \n",
       "214                        ...                                    7   \n",
       "216                        ...                                    7   \n",
       "\n",
       "             Tube1                          Tube2  Temperature  \\\n",
       "213  100mM_Sucrose  100mM_Sucrose_100mM_Arabinose           22   \n",
       "215  100mM_Sucrose  100mM_Sucrose_100mM_Arabinose           22   \n",
       "214  100mM_Sucrose  100mM_Sucrose_100mM_Arabinose           22   \n",
       "216  100mM_Sucrose  100mM_Sucrose_100mM_Arabinose           22   \n",
       "\n",
       "     FlyCountInChamber AverageFeedVolumePerFly_µl AverageFeedCountPerFly  \\\n",
       "213                  1                        NaN                    0.0   \n",
       "215                  1                        NaN                    0.0   \n",
       "214                  1                        NaN                    0.0   \n",
       "216                  1                        NaN                    0.0   \n",
       "\n",
       "     AverageFeedSpeedPerFly_µl/s                     FoodChoice  \\\n",
       "213                          NaN                  100mM_Sucrose   \n",
       "215                          NaN  100mM_Sucrose_100mM_Arabinose   \n",
       "214                          NaN                  100mM_Sucrose   \n",
       "216                          NaN  100mM_Sucrose_100mM_Arabinose   \n",
       "\n",
       "                                       FeedLog_rawfile  \n",
       "213  FeedLog_2017-03-09_13-17-09_MB213B-Gal4-UAS-Tr...  \n",
       "215  FeedLog_2017-03-09_13-17-09_MB213B-Gal4-UAS-Tr...  \n",
       "214  FeedLog_2017-03-09_13-17-09_MB213B-Gal4-UAS-Tr...  \n",
       "216  FeedLog_2017-03-09_13-17-09_MB213B-Gal4-UAS-Tr...  \n",
       "\n",
       "[4 rows x 28 columns]"
      ]
     },
     "execution_count": 124,
     "metadata": {},
     "output_type": "execute_result"
    }
   ],
   "source": [
    "df[df.FlyID=='2017-02-24_12-05-01_Fly11']"
   ]
  },
  {
   "cell_type": "code",
   "execution_count": null,
   "metadata": {
    "collapsed": true
   },
   "outputs": [],
   "source": []
  },
  {
   "cell_type": "code",
   "execution_count": null,
   "metadata": {
    "collapsed": true
   },
   "outputs": [],
   "source": []
  },
  {
   "cell_type": "code",
   "execution_count": 12,
   "metadata": {
    "ExecuteTime": {
     "end_time": "2017-10-05T09:20:59.288672Z",
     "start_time": "2017-10-05T09:20:59.214825Z"
    }
   },
   "outputs": [
    {
     "name": "stdout",
     "output_type": "stream",
     "text": [
      "240\n"
     ]
    },
    {
     "data": {
      "text/html": [
       "<div>\n",
       "<style>\n",
       "    .dataframe thead tr:only-child th {\n",
       "        text-align: right;\n",
       "    }\n",
       "\n",
       "    .dataframe thead th {\n",
       "        text-align: left;\n",
       "    }\n",
       "\n",
       "    .dataframe tbody tr th {\n",
       "        vertical-align: top;\n",
       "    }\n",
       "</style>\n",
       "<table border=\"1\" class=\"dataframe\">\n",
       "  <thead>\n",
       "    <tr style=\"text-align: right;\">\n",
       "      <th></th>\n",
       "      <th>Temperature</th>\n",
       "      <th>Genotype</th>\n",
       "      <th>FoodChoice</th>\n",
       "      <th>FlyID</th>\n",
       "      <th>Total Feed Count\n",
       "Per Fly</th>\n",
       "    </tr>\n",
       "  </thead>\n",
       "  <tbody>\n",
       "    <tr>\n",
       "      <th>0</th>\n",
       "      <td>22</td>\n",
       "      <td>MB213B-Gal4&gt;UAS-TrpA1</td>\n",
       "      <td>100mM_Sucrose</td>\n",
       "      <td>2017-02-24_12-05-01_Fly11</td>\n",
       "      <td>0.0</td>\n",
       "    </tr>\n",
       "    <tr>\n",
       "      <th>20</th>\n",
       "      <td>22</td>\n",
       "      <td>MB213B-Gal4&gt;UAS-TrpA1</td>\n",
       "      <td>100mM_Sucrose_100mM_Arabinose</td>\n",
       "      <td>2017-02-24_12-05-01_Fly11</td>\n",
       "      <td>0.0</td>\n",
       "    </tr>\n",
       "  </tbody>\n",
       "</table>\n",
       "</div>"
      ],
      "text/plain": [
       "    Temperature               Genotype                     FoodChoice  \\\n",
       "0            22  MB213B-Gal4>UAS-TrpA1                  100mM_Sucrose   \n",
       "20           22  MB213B-Gal4>UAS-TrpA1  100mM_Sucrose_100mM_Arabinose   \n",
       "\n",
       "                        FlyID  Total Feed Count\\nPer Fly  \n",
       "0   2017-02-24_12-05-01_Fly11                        0.0  \n",
       "20  2017-02-24_12-05-01_Fly11                        0.0  "
      ]
     },
     "execution_count": 12,
     "metadata": {},
     "output_type": "execute_result"
    }
   ],
   "source": [
    "total_feeds=pd.DataFrame(df[['FoodChoice', 'Genotype', 'Temperature','FlyID','AverageFeedCountPerFly']]\\\n",
    "                            .groupby(['Temperature','Genotype','FoodChoice','FlyID'])\\\n",
    "                            .sum()\\\n",
    "                            .to_records() )\\\n",
    "            .dropna() # for some reason, groupby produces NaN rows\n",
    "total_feeds.reset_index(drop=True, inplace=True)\n",
    "total_feeds.rename(columns={'AverageFeedCountPerFly':'Total Feed Count\\nPer Fly'},inplace=True)        \n",
    "print(len(total_feeds))\n",
    "total_feeds[total_feeds.FlyID=='2017-02-24_12-05-01_Fly11']"
   ]
  },
  {
   "cell_type": "code",
   "execution_count": 20,
   "metadata": {
    "ExecuteTime": {
     "end_time": "2017-10-05T09:30:42.030103Z",
     "start_time": "2017-10-05T09:30:42.026158Z"
    },
    "collapsed": true
   },
   "outputs": [],
   "source": [
    "x=group_by.copy()\n",
    "x.append(compare_by)"
   ]
  },
  {
   "cell_type": "code",
   "execution_count": 21,
   "metadata": {
    "ExecuteTime": {
     "end_time": "2017-10-05T09:30:42.420068Z",
     "start_time": "2017-10-05T09:30:42.414530Z"
    }
   },
   "outputs": [
    {
     "data": {
      "text/plain": [
       "['Genotype', 'FoodChoice', 'Temperature']"
      ]
     },
     "execution_count": 21,
     "metadata": {},
     "output_type": "execute_result"
    }
   ],
   "source": [
    "x"
   ]
  },
  {
   "cell_type": "code",
   "execution_count": 22,
   "metadata": {
    "ExecuteTime": {
     "end_time": "2017-10-05T09:30:52.798268Z",
     "start_time": "2017-10-05T09:30:52.788804Z"
    },
    "scrolled": true
   },
   "outputs": [],
   "source": [
    "total_feeds['plot_groups']=esp._munger.join_cols(total_feeds,group_by)\n",
    "x=group_by.copy()\n",
    "x.append(compare_by)\n",
    "total_feeds['plot_groups_with_contrast']=esp._munger.join_cols(total_feeds,x)"
   ]
  },
  {
   "cell_type": "code",
   "execution_count": null,
   "metadata": {
    "collapsed": true
   },
   "outputs": [],
   "source": []
  },
  {
   "cell_type": "code",
   "execution_count": 24,
   "metadata": {
    "ExecuteTime": {
     "end_time": "2017-10-05T09:30:57.424504Z",
     "start_time": "2017-10-05T09:30:57.418836Z"
    },
    "scrolled": true
   },
   "outputs": [
    {
     "data": {
      "text/plain": [
       "array(['MB213B-Gal4>UAS-TrpA1; 100mM_Sucrose; 22',\n",
       "       'MB213B-Gal4>UAS-TrpA1; 100mM_Sucrose_100mM_Arabinose; 22',\n",
       "       'w1118;MB213B-Gal4; 100mM_Sucrose; 22',\n",
       "       'w1118;MB213B-Gal4; 100mM_Sucrose_100mM_Arabinose; 22',\n",
       "       'w1118;UAS-TrpA1; 100mM_Sucrose; 22',\n",
       "       'w1118;UAS-TrpA1; 100mM_Sucrose_100mM_Arabinose; 22',\n",
       "       'MB213B-Gal4>UAS-TrpA1; 100mM_Sucrose; 29',\n",
       "       'MB213B-Gal4>UAS-TrpA1; 100mM_Sucrose_100mM_Arabinose; 29',\n",
       "       'w1118;MB213B-Gal4; 100mM_Sucrose; 29',\n",
       "       'w1118;MB213B-Gal4; 100mM_Sucrose_100mM_Arabinose; 29',\n",
       "       'w1118;UAS-TrpA1; 100mM_Sucrose; 29',\n",
       "       'w1118;UAS-TrpA1; 100mM_Sucrose_100mM_Arabinose; 29'], dtype=object)"
      ]
     },
     "execution_count": 24,
     "metadata": {},
     "output_type": "execute_result"
    }
   ],
   "source": [
    "total_feeds.plot_groups_with_contrast.unique()"
   ]
  },
  {
   "cell_type": "code",
   "execution_count": 42,
   "metadata": {
    "ExecuteTime": {
     "end_time": "2017-10-05T09:44:53.389911Z",
     "start_time": "2017-10-05T09:44:53.385623Z"
    }
   },
   "outputs": [],
   "source": [
    "idx=[tuple(i) for i in np.array_split(total_feeds.plot_groups_with_contrast.unique(), 6)]"
   ]
  },
  {
   "cell_type": "code",
   "execution_count": 41,
   "metadata": {
    "ExecuteTime": {
     "end_time": "2017-10-05T09:44:51.909633Z",
     "start_time": "2017-10-05T09:44:46.178120Z"
    },
    "scrolled": false
   },
   "outputs": [
    {
     "data": {
      "image/png": "[encoded data removed]",
      "text/plain": [
       "<matplotlib.figure.Figure at 0x111459f60>"
      ]
     },
     "metadata": {},
     "output_type": "display_data"
    }
   ],
   "source": [
    "idx=[tuple(i) for i in np.array_split(total_feeds.plot_groups_with_contrast.unique(), 6)]\n",
    "\n",
    "f,a=bsc.contrastplot(total_feeds,x='plot_groups_with_contrast',y='Total Feed Count\\nPer Fly',\n",
    "                    idx=idx,\n",
    "                    float_contrast=False)"
   ]
  },
  {
   "cell_type": "code",
   "execution_count": null,
   "metadata": {
    "collapsed": true
   },
   "outputs": [],
   "source": []
  },
  {
   "cell_type": "code",
   "execution_count": null,
   "metadata": {
    "collapsed": true
   },
   "outputs": [],
   "source": []
  },
  {
   "cell_type": "code",
   "execution_count": 122,
   "metadata": {
    "ExecuteTime": {
     "end_time": "2017-10-05T06:33:15.503077Z",
     "start_time": "2017-10-05T06:33:15.439145Z"
    }
   },
   "outputs": [
    {
     "name": "stdout",
     "output_type": "stream",
     "text": [
      "147\n"
     ]
    },
    {
     "data": {
      "text/html": [
       "<div>\n",
       "<style>\n",
       "    .dataframe thead tr:only-child th {\n",
       "        text-align: right;\n",
       "    }\n",
       "\n",
       "    .dataframe thead th {\n",
       "        text-align: left;\n",
       "    }\n",
       "\n",
       "    .dataframe tbody tr th {\n",
       "        vertical-align: top;\n",
       "    }\n",
       "</style>\n",
       "<table border=\"1\" class=\"dataframe\">\n",
       "  <thead>\n",
       "    <tr style=\"text-align: right;\">\n",
       "      <th></th>\n",
       "      <th>FoodChoice</th>\n",
       "      <th>Genotype</th>\n",
       "      <th>Temperature</th>\n",
       "      <th>FlyID</th>\n",
       "      <th>Total Feed Volume\n",
       "Per Fly</th>\n",
       "    </tr>\n",
       "  </thead>\n",
       "  <tbody>\n",
       "  </tbody>\n",
       "</table>\n",
       "</div>"
      ],
      "text/plain": [
       "Empty DataFrame\n",
       "Columns: [FoodChoice, Genotype, Temperature, FlyID, Total Feed Volume\n",
       "Per Fly]\n",
       "Index: []"
      ]
     },
     "execution_count": 122,
     "metadata": {},
     "output_type": "execute_result"
    }
   ],
   "source": [
    "feed_vol=pd.DataFrame( df[['FlyID','FoodChoice', 'Genotype', 'Temperature','AverageFeedVolumePerFly_µl']]\\\n",
    "                        .groupby(['FoodChoice', 'Genotype', 'Temperature','FlyID'])\\\n",
    "                        .sum()\\\n",
    "                        .to_records() )\\\n",
    "         .dropna() # for some reason, groupby produces NaN rows\n",
    "feed_vol.rename(columns={'AverageFeedVolumePerFly_µl':'Total Feed Volume\\nPer Fly'},inplace=True)       \n",
    "print(len(feed_vol))\n",
    "feed_vol[feed_vol.FlyID=='2017-02-24_12-05-01_Fly11']"
   ]
  },
  {
   "cell_type": "code",
   "execution_count": 121,
   "metadata": {
    "ExecuteTime": {
     "end_time": "2017-10-05T06:33:08.983622Z",
     "start_time": "2017-10-05T06:33:08.940050Z"
    }
   },
   "outputs": [
    {
     "data": {
      "text/html": [
       "<div>\n",
       "<style>\n",
       "    .dataframe thead tr:only-child th {\n",
       "        text-align: right;\n",
       "    }\n",
       "\n",
       "    .dataframe thead th {\n",
       "        text-align: left;\n",
       "    }\n",
       "\n",
       "    .dataframe tbody tr th {\n",
       "        vertical-align: top;\n",
       "    }\n",
       "</style>\n",
       "<table border=\"1\" class=\"dataframe\">\n",
       "  <thead>\n",
       "    <tr style=\"text-align: right;\">\n",
       "      <th></th>\n",
       "      <th>FlyID</th>\n",
       "      <th>FoodChoice</th>\n",
       "      <th>Genotype</th>\n",
       "      <th>Temperature</th>\n",
       "      <th>AverageFeedVolumePerFly_µl</th>\n",
       "    </tr>\n",
       "  </thead>\n",
       "  <tbody>\n",
       "    <tr>\n",
       "      <th>94</th>\n",
       "      <td>2017-02-24_12-05-01_Fly1</td>\n",
       "      <td>100mM_Sucrose</td>\n",
       "      <td>w1118;MB213B-Gal4</td>\n",
       "      <td>22</td>\n",
       "      <td>NaN</td>\n",
       "    </tr>\n",
       "    <tr>\n",
       "      <th>96</th>\n",
       "      <td>2017-02-24_12-05-01_Fly1</td>\n",
       "      <td>100mM_Sucrose_100mM_Arabinose</td>\n",
       "      <td>w1118;MB213B-Gal4</td>\n",
       "      <td>22</td>\n",
       "      <td>NaN</td>\n",
       "    </tr>\n",
       "    <tr>\n",
       "      <th>85</th>\n",
       "      <td>2017-02-24_12-05-01_Fly1</td>\n",
       "      <td>100mM_Sucrose</td>\n",
       "      <td>w1118;MB213B-Gal4</td>\n",
       "      <td>22</td>\n",
       "      <td>0.058078</td>\n",
       "    </tr>\n",
       "    <tr>\n",
       "      <th>86</th>\n",
       "      <td>2017-02-24_12-05-01_Fly1</td>\n",
       "      <td>100mM_Sucrose</td>\n",
       "      <td>w1118;MB213B-Gal4</td>\n",
       "      <td>22</td>\n",
       "      <td>0.098790</td>\n",
       "    </tr>\n",
       "    <tr>\n",
       "      <th>87</th>\n",
       "      <td>2017-02-24_12-05-01_Fly1</td>\n",
       "      <td>100mM_Sucrose</td>\n",
       "      <td>w1118;MB213B-Gal4</td>\n",
       "      <td>22</td>\n",
       "      <td>0.001103</td>\n",
       "    </tr>\n",
       "    <tr>\n",
       "      <th>88</th>\n",
       "      <td>2017-02-24_12-05-01_Fly1</td>\n",
       "      <td>100mM_Sucrose</td>\n",
       "      <td>w1118;MB213B-Gal4</td>\n",
       "      <td>22</td>\n",
       "      <td>0.045000</td>\n",
       "    </tr>\n",
       "    <tr>\n",
       "      <th>89</th>\n",
       "      <td>2017-02-24_12-05-01_Fly1</td>\n",
       "      <td>100mM_Sucrose</td>\n",
       "      <td>w1118;MB213B-Gal4</td>\n",
       "      <td>22</td>\n",
       "      <td>0.001115</td>\n",
       "    </tr>\n",
       "    <tr>\n",
       "      <th>90</th>\n",
       "      <td>2017-02-24_12-05-01_Fly1</td>\n",
       "      <td>100mM_Sucrose_100mM_Arabinose</td>\n",
       "      <td>w1118;MB213B-Gal4</td>\n",
       "      <td>22</td>\n",
       "      <td>0.119754</td>\n",
       "    </tr>\n",
       "    <tr>\n",
       "      <th>91</th>\n",
       "      <td>2017-02-24_12-05-01_Fly1</td>\n",
       "      <td>100mM_Sucrose</td>\n",
       "      <td>w1118;MB213B-Gal4</td>\n",
       "      <td>22</td>\n",
       "      <td>0.001288</td>\n",
       "    </tr>\n",
       "    <tr>\n",
       "      <th>92</th>\n",
       "      <td>2017-02-24_12-05-01_Fly1</td>\n",
       "      <td>100mM_Sucrose</td>\n",
       "      <td>w1118;MB213B-Gal4</td>\n",
       "      <td>22</td>\n",
       "      <td>0.001059</td>\n",
       "    </tr>\n",
       "    <tr>\n",
       "      <th>93</th>\n",
       "      <td>2017-02-24_12-05-01_Fly1</td>\n",
       "      <td>100mM_Sucrose</td>\n",
       "      <td>w1118;MB213B-Gal4</td>\n",
       "      <td>22</td>\n",
       "      <td>0.001266</td>\n",
       "    </tr>\n",
       "    <tr>\n",
       "      <th>95</th>\n",
       "      <td>2017-02-24_12-05-01_Fly1</td>\n",
       "      <td>100mM_Sucrose</td>\n",
       "      <td>w1118;MB213B-Gal4</td>\n",
       "      <td>22</td>\n",
       "      <td>NaN</td>\n",
       "    </tr>\n",
       "    <tr>\n",
       "      <th>97</th>\n",
       "      <td>2017-02-24_12-05-01_Fly1</td>\n",
       "      <td>100mM_Sucrose_100mM_Arabinose</td>\n",
       "      <td>w1118;MB213B-Gal4</td>\n",
       "      <td>22</td>\n",
       "      <td>NaN</td>\n",
       "    </tr>\n",
       "    <tr>\n",
       "      <th>107</th>\n",
       "      <td>2017-02-24_12-05-01_Fly10</td>\n",
       "      <td>100mM_Sucrose</td>\n",
       "      <td>w1118;MB213B-Gal4</td>\n",
       "      <td>22</td>\n",
       "      <td>NaN</td>\n",
       "    </tr>\n",
       "    <tr>\n",
       "      <th>109</th>\n",
       "      <td>2017-02-24_12-05-01_Fly10</td>\n",
       "      <td>100mM_Sucrose_100mM_Arabinose</td>\n",
       "      <td>w1118;MB213B-Gal4</td>\n",
       "      <td>22</td>\n",
       "      <td>NaN</td>\n",
       "    </tr>\n",
       "    <tr>\n",
       "      <th>98</th>\n",
       "      <td>2017-02-24_12-05-01_Fly10</td>\n",
       "      <td>100mM_Sucrose_100mM_Arabinose</td>\n",
       "      <td>w1118;MB213B-Gal4</td>\n",
       "      <td>22</td>\n",
       "      <td>0.001138</td>\n",
       "    </tr>\n",
       "    <tr>\n",
       "      <th>99</th>\n",
       "      <td>2017-02-24_12-05-01_Fly10</td>\n",
       "      <td>100mM_Sucrose</td>\n",
       "      <td>w1118;MB213B-Gal4</td>\n",
       "      <td>22</td>\n",
       "      <td>0.157672</td>\n",
       "    </tr>\n",
       "    <tr>\n",
       "      <th>100</th>\n",
       "      <td>2017-02-24_12-05-01_Fly10</td>\n",
       "      <td>100mM_Sucrose</td>\n",
       "      <td>w1118;MB213B-Gal4</td>\n",
       "      <td>22</td>\n",
       "      <td>0.001208</td>\n",
       "    </tr>\n",
       "    <tr>\n",
       "      <th>101</th>\n",
       "      <td>2017-02-24_12-05-01_Fly10</td>\n",
       "      <td>100mM_Sucrose</td>\n",
       "      <td>w1118;MB213B-Gal4</td>\n",
       "      <td>22</td>\n",
       "      <td>0.037300</td>\n",
       "    </tr>\n",
       "    <tr>\n",
       "      <th>102</th>\n",
       "      <td>2017-02-24_12-05-01_Fly10</td>\n",
       "      <td>100mM_Sucrose</td>\n",
       "      <td>w1118;MB213B-Gal4</td>\n",
       "      <td>22</td>\n",
       "      <td>0.001489</td>\n",
       "    </tr>\n",
       "    <tr>\n",
       "      <th>103</th>\n",
       "      <td>2017-02-24_12-05-01_Fly10</td>\n",
       "      <td>100mM_Sucrose</td>\n",
       "      <td>w1118;MB213B-Gal4</td>\n",
       "      <td>22</td>\n",
       "      <td>0.038462</td>\n",
       "    </tr>\n",
       "    <tr>\n",
       "      <th>104</th>\n",
       "      <td>2017-02-24_12-05-01_Fly10</td>\n",
       "      <td>100mM_Sucrose_100mM_Arabinose</td>\n",
       "      <td>w1118;MB213B-Gal4</td>\n",
       "      <td>22</td>\n",
       "      <td>0.259327</td>\n",
       "    </tr>\n",
       "    <tr>\n",
       "      <th>105</th>\n",
       "      <td>2017-02-24_12-05-01_Fly10</td>\n",
       "      <td>100mM_Sucrose_100mM_Arabinose</td>\n",
       "      <td>w1118;MB213B-Gal4</td>\n",
       "      <td>22</td>\n",
       "      <td>0.006902</td>\n",
       "    </tr>\n",
       "    <tr>\n",
       "      <th>106</th>\n",
       "      <td>2017-02-24_12-05-01_Fly10</td>\n",
       "      <td>100mM_Sucrose_100mM_Arabinose</td>\n",
       "      <td>w1118;MB213B-Gal4</td>\n",
       "      <td>22</td>\n",
       "      <td>0.001656</td>\n",
       "    </tr>\n",
       "    <tr>\n",
       "      <th>108</th>\n",
       "      <td>2017-02-24_12-05-01_Fly10</td>\n",
       "      <td>100mM_Sucrose</td>\n",
       "      <td>w1118;MB213B-Gal4</td>\n",
       "      <td>22</td>\n",
       "      <td>NaN</td>\n",
       "    </tr>\n",
       "    <tr>\n",
       "      <th>110</th>\n",
       "      <td>2017-02-24_12-05-01_Fly10</td>\n",
       "      <td>100mM_Sucrose_100mM_Arabinose</td>\n",
       "      <td>w1118;MB213B-Gal4</td>\n",
       "      <td>22</td>\n",
       "      <td>NaN</td>\n",
       "    </tr>\n",
       "    <tr>\n",
       "      <th>213</th>\n",
       "      <td>2017-02-24_12-05-01_Fly11</td>\n",
       "      <td>100mM_Sucrose</td>\n",
       "      <td>MB213B-Gal4&gt;UAS-TrpA1</td>\n",
       "      <td>22</td>\n",
       "      <td>NaN</td>\n",
       "    </tr>\n",
       "    <tr>\n",
       "      <th>215</th>\n",
       "      <td>2017-02-24_12-05-01_Fly11</td>\n",
       "      <td>100mM_Sucrose_100mM_Arabinose</td>\n",
       "      <td>MB213B-Gal4&gt;UAS-TrpA1</td>\n",
       "      <td>22</td>\n",
       "      <td>NaN</td>\n",
       "    </tr>\n",
       "    <tr>\n",
       "      <th>214</th>\n",
       "      <td>2017-02-24_12-05-01_Fly11</td>\n",
       "      <td>100mM_Sucrose</td>\n",
       "      <td>MB213B-Gal4&gt;UAS-TrpA1</td>\n",
       "      <td>22</td>\n",
       "      <td>NaN</td>\n",
       "    </tr>\n",
       "    <tr>\n",
       "      <th>216</th>\n",
       "      <td>2017-02-24_12-05-01_Fly11</td>\n",
       "      <td>100mM_Sucrose_100mM_Arabinose</td>\n",
       "      <td>MB213B-Gal4&gt;UAS-TrpA1</td>\n",
       "      <td>22</td>\n",
       "      <td>NaN</td>\n",
       "    </tr>\n",
       "    <tr>\n",
       "      <th>...</th>\n",
       "      <td>...</td>\n",
       "      <td>...</td>\n",
       "      <td>...</td>\n",
       "      <td>...</td>\n",
       "      <td>...</td>\n",
       "    </tr>\n",
       "    <tr>\n",
       "      <th>1827</th>\n",
       "      <td>2017-03-09_13-17-09_Fly8</td>\n",
       "      <td>100mM_Sucrose_100mM_Arabinose</td>\n",
       "      <td>w1118;MB213B-Gal4</td>\n",
       "      <td>29</td>\n",
       "      <td>0.017399</td>\n",
       "    </tr>\n",
       "    <tr>\n",
       "      <th>1828</th>\n",
       "      <td>2017-03-09_13-17-09_Fly8</td>\n",
       "      <td>100mM_Sucrose</td>\n",
       "      <td>w1118;MB213B-Gal4</td>\n",
       "      <td>29</td>\n",
       "      <td>0.001246</td>\n",
       "    </tr>\n",
       "    <tr>\n",
       "      <th>1829</th>\n",
       "      <td>2017-03-09_13-17-09_Fly8</td>\n",
       "      <td>100mM_Sucrose_100mM_Arabinose</td>\n",
       "      <td>w1118;MB213B-Gal4</td>\n",
       "      <td>29</td>\n",
       "      <td>0.062395</td>\n",
       "    </tr>\n",
       "    <tr>\n",
       "      <th>1830</th>\n",
       "      <td>2017-03-09_13-17-09_Fly8</td>\n",
       "      <td>100mM_Sucrose_100mM_Arabinose</td>\n",
       "      <td>w1118;MB213B-Gal4</td>\n",
       "      <td>29</td>\n",
       "      <td>0.001452</td>\n",
       "    </tr>\n",
       "    <tr>\n",
       "      <th>1831</th>\n",
       "      <td>2017-03-09_13-17-09_Fly8</td>\n",
       "      <td>100mM_Sucrose_100mM_Arabinose</td>\n",
       "      <td>w1118;MB213B-Gal4</td>\n",
       "      <td>29</td>\n",
       "      <td>0.006800</td>\n",
       "    </tr>\n",
       "    <tr>\n",
       "      <th>1832</th>\n",
       "      <td>2017-03-09_13-17-09_Fly8</td>\n",
       "      <td>100mM_Sucrose_100mM_Arabinose</td>\n",
       "      <td>w1118;MB213B-Gal4</td>\n",
       "      <td>29</td>\n",
       "      <td>0.001140</td>\n",
       "    </tr>\n",
       "    <tr>\n",
       "      <th>1833</th>\n",
       "      <td>2017-03-09_13-17-09_Fly8</td>\n",
       "      <td>100mM_Sucrose_100mM_Arabinose</td>\n",
       "      <td>w1118;MB213B-Gal4</td>\n",
       "      <td>29</td>\n",
       "      <td>0.001010</td>\n",
       "    </tr>\n",
       "    <tr>\n",
       "      <th>1834</th>\n",
       "      <td>2017-03-09_13-17-09_Fly8</td>\n",
       "      <td>100mM_Sucrose_100mM_Arabinose</td>\n",
       "      <td>w1118;MB213B-Gal4</td>\n",
       "      <td>29</td>\n",
       "      <td>0.001065</td>\n",
       "    </tr>\n",
       "    <tr>\n",
       "      <th>1835</th>\n",
       "      <td>2017-03-09_13-17-09_Fly8</td>\n",
       "      <td>100mM_Sucrose_100mM_Arabinose</td>\n",
       "      <td>w1118;MB213B-Gal4</td>\n",
       "      <td>29</td>\n",
       "      <td>0.002241</td>\n",
       "    </tr>\n",
       "    <tr>\n",
       "      <th>1836</th>\n",
       "      <td>2017-03-09_13-17-09_Fly8</td>\n",
       "      <td>100mM_Sucrose_100mM_Arabinose</td>\n",
       "      <td>w1118;MB213B-Gal4</td>\n",
       "      <td>29</td>\n",
       "      <td>0.001937</td>\n",
       "    </tr>\n",
       "    <tr>\n",
       "      <th>1837</th>\n",
       "      <td>2017-03-09_13-17-09_Fly8</td>\n",
       "      <td>100mM_Sucrose_100mM_Arabinose</td>\n",
       "      <td>w1118;MB213B-Gal4</td>\n",
       "      <td>29</td>\n",
       "      <td>0.001117</td>\n",
       "    </tr>\n",
       "    <tr>\n",
       "      <th>1838</th>\n",
       "      <td>2017-03-09_13-17-09_Fly8</td>\n",
       "      <td>100mM_Sucrose_100mM_Arabinose</td>\n",
       "      <td>w1118;MB213B-Gal4</td>\n",
       "      <td>29</td>\n",
       "      <td>0.009782</td>\n",
       "    </tr>\n",
       "    <tr>\n",
       "      <th>1839</th>\n",
       "      <td>2017-03-09_13-17-09_Fly8</td>\n",
       "      <td>100mM_Sucrose_100mM_Arabinose</td>\n",
       "      <td>w1118;MB213B-Gal4</td>\n",
       "      <td>29</td>\n",
       "      <td>0.001278</td>\n",
       "    </tr>\n",
       "    <tr>\n",
       "      <th>1840</th>\n",
       "      <td>2017-03-09_13-17-09_Fly8</td>\n",
       "      <td>100mM_Sucrose_100mM_Arabinose</td>\n",
       "      <td>w1118;MB213B-Gal4</td>\n",
       "      <td>29</td>\n",
       "      <td>0.001108</td>\n",
       "    </tr>\n",
       "    <tr>\n",
       "      <th>1841</th>\n",
       "      <td>2017-03-09_13-17-09_Fly8</td>\n",
       "      <td>100mM_Sucrose_100mM_Arabinose</td>\n",
       "      <td>w1118;MB213B-Gal4</td>\n",
       "      <td>29</td>\n",
       "      <td>0.002639</td>\n",
       "    </tr>\n",
       "    <tr>\n",
       "      <th>1842</th>\n",
       "      <td>2017-03-09_13-17-09_Fly8</td>\n",
       "      <td>100mM_Sucrose_100mM_Arabinose</td>\n",
       "      <td>w1118;MB213B-Gal4</td>\n",
       "      <td>29</td>\n",
       "      <td>0.001269</td>\n",
       "    </tr>\n",
       "    <tr>\n",
       "      <th>1843</th>\n",
       "      <td>2017-03-09_13-17-09_Fly8</td>\n",
       "      <td>100mM_Sucrose_100mM_Arabinose</td>\n",
       "      <td>w1118;MB213B-Gal4</td>\n",
       "      <td>29</td>\n",
       "      <td>0.002620</td>\n",
       "    </tr>\n",
       "    <tr>\n",
       "      <th>1844</th>\n",
       "      <td>2017-03-09_13-17-09_Fly8</td>\n",
       "      <td>100mM_Sucrose</td>\n",
       "      <td>w1118;MB213B-Gal4</td>\n",
       "      <td>29</td>\n",
       "      <td>0.001380</td>\n",
       "    </tr>\n",
       "    <tr>\n",
       "      <th>1846</th>\n",
       "      <td>2017-03-09_13-17-09_Fly8</td>\n",
       "      <td>100mM_Sucrose_100mM_Arabinose</td>\n",
       "      <td>w1118;MB213B-Gal4</td>\n",
       "      <td>29</td>\n",
       "      <td>NaN</td>\n",
       "    </tr>\n",
       "    <tr>\n",
       "      <th>1848</th>\n",
       "      <td>2017-03-09_13-17-09_Fly8</td>\n",
       "      <td>100mM_Sucrose</td>\n",
       "      <td>w1118;MB213B-Gal4</td>\n",
       "      <td>29</td>\n",
       "      <td>NaN</td>\n",
       "    </tr>\n",
       "    <tr>\n",
       "      <th>2457</th>\n",
       "      <td>2017-03-09_13-17-09_Fly9</td>\n",
       "      <td>100mM_Sucrose_100mM_Arabinose</td>\n",
       "      <td>w1118;MB213B-Gal4</td>\n",
       "      <td>29</td>\n",
       "      <td>NaN</td>\n",
       "    </tr>\n",
       "    <tr>\n",
       "      <th>2459</th>\n",
       "      <td>2017-03-09_13-17-09_Fly9</td>\n",
       "      <td>100mM_Sucrose</td>\n",
       "      <td>w1118;MB213B-Gal4</td>\n",
       "      <td>29</td>\n",
       "      <td>NaN</td>\n",
       "    </tr>\n",
       "    <tr>\n",
       "      <th>2451</th>\n",
       "      <td>2017-03-09_13-17-09_Fly9</td>\n",
       "      <td>100mM_Sucrose</td>\n",
       "      <td>w1118;MB213B-Gal4</td>\n",
       "      <td>29</td>\n",
       "      <td>0.327995</td>\n",
       "    </tr>\n",
       "    <tr>\n",
       "      <th>2452</th>\n",
       "      <td>2017-03-09_13-17-09_Fly9</td>\n",
       "      <td>100mM_Sucrose</td>\n",
       "      <td>w1118;MB213B-Gal4</td>\n",
       "      <td>29</td>\n",
       "      <td>0.001292</td>\n",
       "    </tr>\n",
       "    <tr>\n",
       "      <th>2453</th>\n",
       "      <td>2017-03-09_13-17-09_Fly9</td>\n",
       "      <td>100mM_Sucrose</td>\n",
       "      <td>w1118;MB213B-Gal4</td>\n",
       "      <td>29</td>\n",
       "      <td>0.002241</td>\n",
       "    </tr>\n",
       "    <tr>\n",
       "      <th>2454</th>\n",
       "      <td>2017-03-09_13-17-09_Fly9</td>\n",
       "      <td>100mM_Sucrose</td>\n",
       "      <td>w1118;MB213B-Gal4</td>\n",
       "      <td>29</td>\n",
       "      <td>0.001588</td>\n",
       "    </tr>\n",
       "    <tr>\n",
       "      <th>2455</th>\n",
       "      <td>2017-03-09_13-17-09_Fly9</td>\n",
       "      <td>100mM_Sucrose</td>\n",
       "      <td>w1118;MB213B-Gal4</td>\n",
       "      <td>29</td>\n",
       "      <td>0.001839</td>\n",
       "    </tr>\n",
       "    <tr>\n",
       "      <th>2456</th>\n",
       "      <td>2017-03-09_13-17-09_Fly9</td>\n",
       "      <td>100mM_Sucrose</td>\n",
       "      <td>w1118;MB213B-Gal4</td>\n",
       "      <td>29</td>\n",
       "      <td>0.001106</td>\n",
       "    </tr>\n",
       "    <tr>\n",
       "      <th>2458</th>\n",
       "      <td>2017-03-09_13-17-09_Fly9</td>\n",
       "      <td>100mM_Sucrose_100mM_Arabinose</td>\n",
       "      <td>w1118;MB213B-Gal4</td>\n",
       "      <td>29</td>\n",
       "      <td>NaN</td>\n",
       "    </tr>\n",
       "    <tr>\n",
       "      <th>2460</th>\n",
       "      <td>2017-03-09_13-17-09_Fly9</td>\n",
       "      <td>100mM_Sucrose</td>\n",
       "      <td>w1118;MB213B-Gal4</td>\n",
       "      <td>29</td>\n",
       "      <td>NaN</td>\n",
       "    </tr>\n",
       "  </tbody>\n",
       "</table>\n",
       "<p>2510 rows × 5 columns</p>\n",
       "</div>"
      ],
      "text/plain": [
       "                          FlyID                     FoodChoice  \\\n",
       "94     2017-02-24_12-05-01_Fly1                  100mM_Sucrose   \n",
       "96     2017-02-24_12-05-01_Fly1  100mM_Sucrose_100mM_Arabinose   \n",
       "85     2017-02-24_12-05-01_Fly1                  100mM_Sucrose   \n",
       "86     2017-02-24_12-05-01_Fly1                  100mM_Sucrose   \n",
       "87     2017-02-24_12-05-01_Fly1                  100mM_Sucrose   \n",
       "88     2017-02-24_12-05-01_Fly1                  100mM_Sucrose   \n",
       "89     2017-02-24_12-05-01_Fly1                  100mM_Sucrose   \n",
       "90     2017-02-24_12-05-01_Fly1  100mM_Sucrose_100mM_Arabinose   \n",
       "91     2017-02-24_12-05-01_Fly1                  100mM_Sucrose   \n",
       "92     2017-02-24_12-05-01_Fly1                  100mM_Sucrose   \n",
       "93     2017-02-24_12-05-01_Fly1                  100mM_Sucrose   \n",
       "95     2017-02-24_12-05-01_Fly1                  100mM_Sucrose   \n",
       "97     2017-02-24_12-05-01_Fly1  100mM_Sucrose_100mM_Arabinose   \n",
       "107   2017-02-24_12-05-01_Fly10                  100mM_Sucrose   \n",
       "109   2017-02-24_12-05-01_Fly10  100mM_Sucrose_100mM_Arabinose   \n",
       "98    2017-02-24_12-05-01_Fly10  100mM_Sucrose_100mM_Arabinose   \n",
       "99    2017-02-24_12-05-01_Fly10                  100mM_Sucrose   \n",
       "100   2017-02-24_12-05-01_Fly10                  100mM_Sucrose   \n",
       "101   2017-02-24_12-05-01_Fly10                  100mM_Sucrose   \n",
       "102   2017-02-24_12-05-01_Fly10                  100mM_Sucrose   \n",
       "103   2017-02-24_12-05-01_Fly10                  100mM_Sucrose   \n",
       "104   2017-02-24_12-05-01_Fly10  100mM_Sucrose_100mM_Arabinose   \n",
       "105   2017-02-24_12-05-01_Fly10  100mM_Sucrose_100mM_Arabinose   \n",
       "106   2017-02-24_12-05-01_Fly10  100mM_Sucrose_100mM_Arabinose   \n",
       "108   2017-02-24_12-05-01_Fly10                  100mM_Sucrose   \n",
       "110   2017-02-24_12-05-01_Fly10  100mM_Sucrose_100mM_Arabinose   \n",
       "213   2017-02-24_12-05-01_Fly11                  100mM_Sucrose   \n",
       "215   2017-02-24_12-05-01_Fly11  100mM_Sucrose_100mM_Arabinose   \n",
       "214   2017-02-24_12-05-01_Fly11                  100mM_Sucrose   \n",
       "216   2017-02-24_12-05-01_Fly11  100mM_Sucrose_100mM_Arabinose   \n",
       "...                         ...                            ...   \n",
       "1827   2017-03-09_13-17-09_Fly8  100mM_Sucrose_100mM_Arabinose   \n",
       "1828   2017-03-09_13-17-09_Fly8                  100mM_Sucrose   \n",
       "1829   2017-03-09_13-17-09_Fly8  100mM_Sucrose_100mM_Arabinose   \n",
       "1830   2017-03-09_13-17-09_Fly8  100mM_Sucrose_100mM_Arabinose   \n",
       "1831   2017-03-09_13-17-09_Fly8  100mM_Sucrose_100mM_Arabinose   \n",
       "1832   2017-03-09_13-17-09_Fly8  100mM_Sucrose_100mM_Arabinose   \n",
       "1833   2017-03-09_13-17-09_Fly8  100mM_Sucrose_100mM_Arabinose   \n",
       "1834   2017-03-09_13-17-09_Fly8  100mM_Sucrose_100mM_Arabinose   \n",
       "1835   2017-03-09_13-17-09_Fly8  100mM_Sucrose_100mM_Arabinose   \n",
       "1836   2017-03-09_13-17-09_Fly8  100mM_Sucrose_100mM_Arabinose   \n",
       "1837   2017-03-09_13-17-09_Fly8  100mM_Sucrose_100mM_Arabinose   \n",
       "1838   2017-03-09_13-17-09_Fly8  100mM_Sucrose_100mM_Arabinose   \n",
       "1839   2017-03-09_13-17-09_Fly8  100mM_Sucrose_100mM_Arabinose   \n",
       "1840   2017-03-09_13-17-09_Fly8  100mM_Sucrose_100mM_Arabinose   \n",
       "1841   2017-03-09_13-17-09_Fly8  100mM_Sucrose_100mM_Arabinose   \n",
       "1842   2017-03-09_13-17-09_Fly8  100mM_Sucrose_100mM_Arabinose   \n",
       "1843   2017-03-09_13-17-09_Fly8  100mM_Sucrose_100mM_Arabinose   \n",
       "1844   2017-03-09_13-17-09_Fly8                  100mM_Sucrose   \n",
       "1846   2017-03-09_13-17-09_Fly8  100mM_Sucrose_100mM_Arabinose   \n",
       "1848   2017-03-09_13-17-09_Fly8                  100mM_Sucrose   \n",
       "2457   2017-03-09_13-17-09_Fly9  100mM_Sucrose_100mM_Arabinose   \n",
       "2459   2017-03-09_13-17-09_Fly9                  100mM_Sucrose   \n",
       "2451   2017-03-09_13-17-09_Fly9                  100mM_Sucrose   \n",
       "2452   2017-03-09_13-17-09_Fly9                  100mM_Sucrose   \n",
       "2453   2017-03-09_13-17-09_Fly9                  100mM_Sucrose   \n",
       "2454   2017-03-09_13-17-09_Fly9                  100mM_Sucrose   \n",
       "2455   2017-03-09_13-17-09_Fly9                  100mM_Sucrose   \n",
       "2456   2017-03-09_13-17-09_Fly9                  100mM_Sucrose   \n",
       "2458   2017-03-09_13-17-09_Fly9  100mM_Sucrose_100mM_Arabinose   \n",
       "2460   2017-03-09_13-17-09_Fly9                  100mM_Sucrose   \n",
       "\n",
       "                   Genotype Temperature  AverageFeedVolumePerFly_µl  \n",
       "94        w1118;MB213B-Gal4          22                         NaN  \n",
       "96        w1118;MB213B-Gal4          22                         NaN  \n",
       "85        w1118;MB213B-Gal4          22                    0.058078  \n",
       "86        w1118;MB213B-Gal4          22                    0.098790  \n",
       "87        w1118;MB213B-Gal4          22                    0.001103  \n",
       "88        w1118;MB213B-Gal4          22                    0.045000  \n",
       "89        w1118;MB213B-Gal4          22                    0.001115  \n",
       "90        w1118;MB213B-Gal4          22                    0.119754  \n",
       "91        w1118;MB213B-Gal4          22                    0.001288  \n",
       "92        w1118;MB213B-Gal4          22                    0.001059  \n",
       "93        w1118;MB213B-Gal4          22                    0.001266  \n",
       "95        w1118;MB213B-Gal4          22                         NaN  \n",
       "97        w1118;MB213B-Gal4          22                         NaN  \n",
       "107       w1118;MB213B-Gal4          22                         NaN  \n",
       "109       w1118;MB213B-Gal4          22                         NaN  \n",
       "98        w1118;MB213B-Gal4          22                    0.001138  \n",
       "99        w1118;MB213B-Gal4          22                    0.157672  \n",
       "100       w1118;MB213B-Gal4          22                    0.001208  \n",
       "101       w1118;MB213B-Gal4          22                    0.037300  \n",
       "102       w1118;MB213B-Gal4          22                    0.001489  \n",
       "103       w1118;MB213B-Gal4          22                    0.038462  \n",
       "104       w1118;MB213B-Gal4          22                    0.259327  \n",
       "105       w1118;MB213B-Gal4          22                    0.006902  \n",
       "106       w1118;MB213B-Gal4          22                    0.001656  \n",
       "108       w1118;MB213B-Gal4          22                         NaN  \n",
       "110       w1118;MB213B-Gal4          22                         NaN  \n",
       "213   MB213B-Gal4>UAS-TrpA1          22                         NaN  \n",
       "215   MB213B-Gal4>UAS-TrpA1          22                         NaN  \n",
       "214   MB213B-Gal4>UAS-TrpA1          22                         NaN  \n",
       "216   MB213B-Gal4>UAS-TrpA1          22                         NaN  \n",
       "...                     ...         ...                         ...  \n",
       "1827      w1118;MB213B-Gal4          29                    0.017399  \n",
       "1828      w1118;MB213B-Gal4          29                    0.001246  \n",
       "1829      w1118;MB213B-Gal4          29                    0.062395  \n",
       "1830      w1118;MB213B-Gal4          29                    0.001452  \n",
       "1831      w1118;MB213B-Gal4          29                    0.006800  \n",
       "1832      w1118;MB213B-Gal4          29                    0.001140  \n",
       "1833      w1118;MB213B-Gal4          29                    0.001010  \n",
       "1834      w1118;MB213B-Gal4          29                    0.001065  \n",
       "1835      w1118;MB213B-Gal4          29                    0.002241  \n",
       "1836      w1118;MB213B-Gal4          29                    0.001937  \n",
       "1837      w1118;MB213B-Gal4          29                    0.001117  \n",
       "1838      w1118;MB213B-Gal4          29                    0.009782  \n",
       "1839      w1118;MB213B-Gal4          29                    0.001278  \n",
       "1840      w1118;MB213B-Gal4          29                    0.001108  \n",
       "1841      w1118;MB213B-Gal4          29                    0.002639  \n",
       "1842      w1118;MB213B-Gal4          29                    0.001269  \n",
       "1843      w1118;MB213B-Gal4          29                    0.002620  \n",
       "1844      w1118;MB213B-Gal4          29                    0.001380  \n",
       "1846      w1118;MB213B-Gal4          29                         NaN  \n",
       "1848      w1118;MB213B-Gal4          29                         NaN  \n",
       "2457      w1118;MB213B-Gal4          29                         NaN  \n",
       "2459      w1118;MB213B-Gal4          29                         NaN  \n",
       "2451      w1118;MB213B-Gal4          29                    0.327995  \n",
       "2452      w1118;MB213B-Gal4          29                    0.001292  \n",
       "2453      w1118;MB213B-Gal4          29                    0.002241  \n",
       "2454      w1118;MB213B-Gal4          29                    0.001588  \n",
       "2455      w1118;MB213B-Gal4          29                    0.001839  \n",
       "2456      w1118;MB213B-Gal4          29                    0.001106  \n",
       "2458      w1118;MB213B-Gal4          29                         NaN  \n",
       "2460      w1118;MB213B-Gal4          29                         NaN  \n",
       "\n",
       "[2510 rows x 5 columns]"
      ]
     },
     "execution_count": 121,
     "metadata": {},
     "output_type": "execute_result"
    }
   ],
   "source": [
    "df[['FlyID','FoodChoice', 'Genotype', 'Temperature','AverageFeedVolumePerFly_µl']]"
   ]
  },
  {
   "cell_type": "code",
   "execution_count": null,
   "metadata": {
    "collapsed": true
   },
   "outputs": [],
   "source": []
  },
  {
   "cell_type": "code",
   "execution_count": 120,
   "metadata": {
    "ExecuteTime": {
     "end_time": "2017-10-05T06:31:08.512778Z",
     "start_time": "2017-10-05T06:31:08.480645Z"
    },
    "scrolled": true
   },
   "outputs": [
    {
     "name": "stdout",
     "output_type": "stream",
     "text": [
      "147\n"
     ]
    },
    {
     "data": {
      "text/html": [
       "<div>\n",
       "<style>\n",
       "    .dataframe thead tr:only-child th {\n",
       "        text-align: right;\n",
       "    }\n",
       "\n",
       "    .dataframe thead th {\n",
       "        text-align: left;\n",
       "    }\n",
       "\n",
       "    .dataframe tbody tr th {\n",
       "        vertical-align: top;\n",
       "    }\n",
       "</style>\n",
       "<table border=\"1\" class=\"dataframe\">\n",
       "  <thead>\n",
       "    <tr style=\"text-align: right;\">\n",
       "      <th></th>\n",
       "      <th>FoodChoice</th>\n",
       "      <th>Genotype</th>\n",
       "      <th>Temperature</th>\n",
       "      <th>FlyID</th>\n",
       "      <th>RelativeTime_s</th>\n",
       "    </tr>\n",
       "  </thead>\n",
       "  <tbody>\n",
       "  </tbody>\n",
       "</table>\n",
       "</div>"
      ],
      "text/plain": [
       "Empty DataFrame\n",
       "Columns: [FoodChoice, Genotype, Temperature, FlyID, RelativeTime_s]\n",
       "Index: []"
      ]
     },
     "execution_count": 120,
     "metadata": {},
     "output_type": "execute_result"
    }
   ],
   "source": [
    "latency=pd.DataFrame( df.dropna()\\\n",
    "                        [['FlyID','FoodChoice', 'Genotype', 'Temperature','RelativeTime_s']]\\\n",
    "                        .groupby(['FoodChoice', 'Genotype', 'Temperature','FlyID'])\\\n",
    "                        .min()\\\n",
    "                        .to_records() )\\\n",
    "        .dropna()\n",
    "print(len(latency))\n",
    "latency[latency.FlyID=='2017-02-24_12-05-01_Fly11']"
   ]
  }
 ],
 "metadata": {
  "kernelspec": {
   "display_name": "Python 3.6",
   "language": "python",
   "name": "python3"
  },
  "language_info": {
   "codemirror_mode": {
    "name": "ipython",
    "version": 3
   },
   "file_extension": ".py",
   "mimetype": "text/x-python",
   "name": "python",
   "nbconvert_exporter": "python",
   "pygments_lexer": "ipython3",
   "version": "3.6.1"
  }
 },
 "nbformat": 4,
 "nbformat_minor": 2
}
