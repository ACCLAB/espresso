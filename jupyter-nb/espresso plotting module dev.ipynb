{
 "cells": [
  {
   "cell_type": "markdown",
   "metadata": {
    "heading_collapsed": true
   },
   "source": [
    "## Import Libraries"
   ]
  },
  {
   "cell_type": "code",
   "execution_count": 1,
   "metadata": {
    "ExecuteTime": {
     "end_time": "2017-09-18T04:48:08.430430Z",
     "start_time": "2017-09-18T04:48:07.134319Z"
    },
    "hidden": true
   },
   "outputs": [
    {
     "name": "stderr",
     "output_type": "stream",
     "text": [
      "/Users/josesho/anaconda3/envs/py3.6/lib/python3.6/site-packages/seaborn/apionly.py:6: UserWarning: As seaborn no longer sets a default style on import, the seaborn.apionly module is deprecated. It will be removed in a future version.\n",
      "  warnings.warn(msg, UserWarning)\n"
     ]
    }
   ],
   "source": [
    "import sys\n",
    "sys.path.append(\"..\") # so we can import espresso from the directory above.\n",
    "import os\n",
    "\n",
    "import numpy as np\n",
    "import scipy as sp\n",
    "import pandas as pd\n",
    "import matplotlib as mpl\n",
    "import matplotlib.pyplot as plt\n",
    "%matplotlib inline\n",
    "\n",
    "import seaborn as sns\n",
    "import bootstrap_contrast as bsc\n",
    "\n",
    "import espresso as esp"
   ]
  },
  {
   "cell_type": "markdown",
   "metadata": {},
   "source": [
    "## Create espresso instances"
   ]
  },
  {
   "cell_type": "code",
   "execution_count": 2,
   "metadata": {
    "ExecuteTime": {
     "end_time": "2017-09-18T04:48:10.693659Z",
     "start_time": "2017-09-18T04:48:08.432161Z"
    },
    "collapsed": true
   },
   "outputs": [],
   "source": [
    "git_repo_folder='/Users/josesho/bin/git-repos/espresso'\n",
    "\n",
    "datadir1=os.path.join(git_repo_folder,'data/by_genotype/Trh-Gal4-Trh-Zal-UAS-GZ-TrpA1/22')\n",
    "datadir2=os.path.join(git_repo_folder,'data/by_genotype/Trh-Gal4-Trh-Zal-UAS-GZ-TrpA1/29')\n",
    "datadir3=os.path.join(git_repo_folder,'data/starvation_gradient/0-Hrs')\n",
    "datadir4=os.path.join(git_repo_folder,'data/starvation_gradient/24-Hrs')\n",
    "\n",
    "twotubes22=esp.espresso(folder=datadir1)\n",
    "twotubes29=esp.espresso(folder=datadir2)\n",
    "\n",
    "starvation0=esp.espresso(folder=datadir3)\n",
    "starvation24=esp.espresso(folder=datadir4)"
   ]
  },
  {
   "cell_type": "code",
   "execution_count": 3,
   "metadata": {
    "ExecuteTime": {
     "end_time": "2017-09-18T04:48:10.702107Z",
     "start_time": "2017-09-18T04:48:10.695531Z"
    }
   },
   "outputs": [
    {
     "data": {
      "text/plain": [
       "1 feedlog with a total of 30 flies.\n",
       "3 genotypes detected ['w1118;Trh-Gal4' 'w1118;UAS-Gz-TrpA1;Trh-Zal'\n",
       " 'Trh-Gal4>UAS-GZ-TrpA1_Trh-ZAL'].\n",
       "1 temperature detected [22].\n",
       "1 foodtype detected ['5% sucrose + 5% yeast extract']."
      ]
     },
     "execution_count": 3,
     "metadata": {},
     "output_type": "execute_result"
    }
   ],
   "source": [
    "twotubes22"
   ]
  },
  {
   "cell_type": "code",
   "execution_count": 4,
   "metadata": {
    "ExecuteTime": {
     "end_time": "2017-09-18T04:48:10.708485Z",
     "start_time": "2017-09-18T04:48:10.703935Z"
    }
   },
   "outputs": [
    {
     "data": {
      "text/plain": [
       "1 feedlog with a total of 30 flies.\n",
       "3 genotypes detected ['w1118;Trh-Gal4' 'w1118;UAS-Gz-TrpA1;Trh-Zal'\n",
       " 'Trh-Gal4>UAS-GZ-TrpA1_Trh-ZAL'].\n",
       "1 temperature detected [29].\n",
       "1 foodtype detected ['5% sucrose + 5% yeast extract']."
      ]
     },
     "execution_count": 4,
     "metadata": {},
     "output_type": "execute_result"
    }
   ],
   "source": [
    "twotubes29"
   ]
  },
  {
   "cell_type": "code",
   "execution_count": 5,
   "metadata": {
    "ExecuteTime": {
     "end_time": "2017-09-18T04:48:10.715212Z",
     "start_time": "2017-09-18T04:48:10.710528Z"
    }
   },
   "outputs": [
    {
     "data": {
      "text/plain": [
       "2 feedlogs with a total of 60 flies.\n",
       "1 genotype detected ['w1118'].\n",
       "1 temperature detected [25].\n",
       "1 foodtype detected ['5% sucrose + 5% yeast extract']."
      ]
     },
     "execution_count": 5,
     "metadata": {},
     "output_type": "execute_result"
    }
   ],
   "source": [
    "starvation0"
   ]
  },
  {
   "cell_type": "code",
   "execution_count": 6,
   "metadata": {
    "ExecuteTime": {
     "end_time": "2017-09-18T04:48:10.721486Z",
     "start_time": "2017-09-18T04:48:10.717010Z"
    }
   },
   "outputs": [
    {
     "data": {
      "text/plain": [
       "2 feedlogs with a total of 60 flies.\n",
       "1 genotype detected ['w1118'].\n",
       "2 temperatures detected [25 22].\n",
       "1 foodtype detected ['5% sucrose + 5% yeast extract']."
      ]
     },
     "execution_count": 6,
     "metadata": {},
     "output_type": "execute_result"
    }
   ],
   "source": [
    "starvation24"
   ]
  }
 ],
 "metadata": {
  "kernelspec": {
   "display_name": "Python 3.6",
   "language": "python",
   "name": "python3"
  },
  "language_info": {
   "codemirror_mode": {
    "name": "ipython",
    "version": 3
   },
   "file_extension": ".py",
   "mimetype": "text/x-python",
   "name": "python",
   "nbconvert_exporter": "python",
   "pygments_lexer": "ipython3",
   "version": "3.6.1"
  }
 },
 "nbformat": 4,
 "nbformat_minor": 2
}
