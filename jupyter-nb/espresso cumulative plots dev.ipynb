{
 "cells": [
  {
   "cell_type": "markdown",
   "metadata": {
    "ExecuteTime": {
     "end_time": "2017-09-25T03:43:40.653798Z",
     "start_time": "2017-09-25T03:43:40.648660Z"
    },
    "heading_collapsed": true
   },
   "source": [
    "## Import Libraries"
   ]
  },
  {
   "cell_type": "code",
   "execution_count": 106,
   "metadata": {
    "ExecuteTime": {
     "end_time": "2017-09-25T06:35:44.090850Z",
     "start_time": "2017-09-25T06:35:44.074118Z"
    },
    "hidden": true
   },
   "outputs": [],
   "source": [
    "import sys\n",
    "sys.path.append(\"..\") # so we can import espresso from the directory above.\n",
    "import os\n",
    "\n",
    "import numpy as np\n",
    "import scipy as sp\n",
    "import pandas as pd\n",
    "import matplotlib as mpl\n",
    "import matplotlib.pyplot as plt\n",
    "%matplotlib inline\n",
    "\n",
    "import seaborn as sns\n",
    "import bootstrap_contrast as bsc\n",
    "\n",
    "import espresso as esp"
   ]
  },
  {
   "cell_type": "markdown",
   "metadata": {},
   "source": [
    "## Create Espresso Instances"
   ]
  },
  {
   "cell_type": "code",
   "execution_count": 123,
   "metadata": {
    "ExecuteTime": {
     "end_time": "2017-09-25T07:23:02.794536Z",
     "start_time": "2017-09-25T07:22:58.658007Z"
    }
   },
   "outputs": [
    {
     "name": "stdout",
     "output_type": "stream",
     "text": [
      "starved_time has been added as a new label, with '0-Hrs' as the custom value.\n",
      "starved_time has been added as a new label, with '24-Hrs' as the custom value.\n",
      "starved_time has been added as a new label, with '48-Hrs' as the custom value.\n"
     ]
    }
   ],
   "source": [
    "git_repo_folder='/Users/josesho/bin/git-repos/espresso'\n",
    "\n",
    "datadir1=os.path.join(git_repo_folder,'data/by_genotype/Trh-Gal4-Trh-Zal-UAS-GZ-TrpA1/22')\n",
    "datadir2=os.path.join(git_repo_folder,'data/by_genotype/Trh-Gal4-Trh-Zal-UAS-GZ-TrpA1/29')\n",
    "datadir3=os.path.join(git_repo_folder,'data/starvation_gradient/0-Hrs')\n",
    "datadir4=os.path.join(git_repo_folder,'data/starvation_gradient/24-Hrs')\n",
    "datadir5=os.path.join(git_repo_folder,'data/starvation_gradient/48-Hrs')\n",
    "datadir6=os.path.join(git_repo_folder,'data/24-Hrs-starved-choice')\n",
    "\n",
    "twotubes22=esp.espresso(folder=datadir1)\n",
    "twotubes29=esp.espresso(folder=datadir2)\n",
    "\n",
    "starvation0=esp.espresso(folder=datadir3)\n",
    "starvation0.attach_label(label_name='starved_time',label_value='0-Hrs')\n",
    "\n",
    "starvation24=esp.espresso(folder=datadir4)\n",
    "starvation24.attach_label(label_name='starved_time',label_value='24-Hrs')\n",
    "\n",
    "starvation48=esp.espresso(folder=datadir5)\n",
    "starvation48.attach_label(label_name='starved_time',label_value='48-Hrs')\n",
    "starved=starvation0+starvation24+starvation48\n",
    "\n",
    "starved_choice=esp.espresso(folder=datadir6)\n",
    "\n",
    "tubes=twotubes22+twotubes29"
   ]
  },
  {
   "cell_type": "markdown",
   "metadata": {},
   "source": [
    "## Plot Development"
   ]
  },
  {
   "cell_type": "code",
   "execution_count": 124,
   "metadata": {
    "ExecuteTime": {
     "end_time": "2017-09-25T07:23:03.783184Z",
     "start_time": "2017-09-25T07:23:03.778093Z"
    }
   },
   "outputs": [
    {
     "data": {
      "text/plain": [
       "2 feedlogs with a total of 60 flies.\n",
       "3 genotypes ['w1118;Trh-Gal4' 'w1118;UAS-Gz-TrpA1;Trh-Zal'\n",
       " 'Trh-Gal4>UAS-GZ-TrpA1_Trh-ZAL'].\n",
       "2 temperatures [22 29].\n",
       "1 foodtype ['5% sucrose + 5% yeast extract']."
      ]
     },
     "execution_count": 124,
     "metadata": {},
     "output_type": "execute_result"
    }
   ],
   "source": [
    "tubes"
   ]
  },
  {
   "cell_type": "code",
   "execution_count": 127,
   "metadata": {
    "ExecuteTime": {
     "end_time": "2017-09-25T07:23:18.820921Z",
     "start_time": "2017-09-25T07:23:18.816274Z"
    }
   },
   "outputs": [],
   "source": [
    "df=tubes.feeds\n",
    "group_by='Genotype'\n",
    "color_by='Temperature'\n",
    "resample_by='10min'"
   ]
  },
  {
   "cell_type": "code",
   "execution_count": 149,
   "metadata": {
    "ExecuteTime": {
     "end_time": "2017-09-25T07:27:21.997390Z",
     "start_time": "2017-09-25T07:27:21.715729Z"
    }
   },
   "outputs": [],
   "source": [
    "# Convert RelativeTime_s to datetime if not done so already.\n",
    "if df.RelativeTime_s.dtype=='float64':\n",
    "    df.loc[:,'RelativeTime_s']=pd.to_datetime(df['RelativeTime_s'],unit='s')\n",
    "\n",
    "# Create the `groupby.resamp` pandas object\n",
    "df_groupby_resamp_sum=df.groupby([group_by,color_by,'FlyID'])\\\n",
    "                        .resample(resample_by,on='RelativeTime_s')\\\n",
    "                        .sum()\n",
    "# df_groupby_resamp_sum=pd.DataFrame( df_groupby_resamp_sum.to_records() )\n",
    "\n",
    "# df_groupby_resamp_cumsum=df_groupby_resamp_sum.groupby([group_by,color_by,'FlyID'])\\\n",
    "#                                               .cumsum()\\\n",
    "#                                               .groupby([group_by,color_by,'FlyID'])\\\n",
    "#                                               .fillna(method='pad')\\\n",
    "#                                               .fillna(0)\n",
    "            \n",
    "# df_groupby_resamp_cumsum=pd.DataFrame( df_groupby_resamp_cumsum.to_records() )\n",
    "# # Drop extraneous columns.\n",
    "# df_groupby_resamp_cumsum=df_groupby_resamp_cumsum[[group_by,color_by,\n",
    "#                                              'FlyID',\n",
    "#                                              'RelativeTime_s',\n",
    "#                                              'FlyCountInChamber',\n",
    "#                                              ### Below, add all the columns that are\n",
    "#                                              ### potentially used for timecourse plotting.\n",
    "#                                              'AverageFeedVolumePerFly_µl',\n",
    "#                                              'AverageFeedCountPerFly',\n",
    "#                                              'AverageFeedSpeedPerFly_µl/s']]\n",
    "\n",
    "# # # Add time column (in minutes) to facilitate plotting.\n",
    "# rt=df_groupby_resamp_cumsum.loc[:,'RelativeTime_s']\n",
    "# df_groupby_resamp_cumsum['time_s']=rt.dt.hour*3600+rt.dt.minute*60+rt.dt.second\n",
    "\n",
    "# df_groupby_resamp_cumsum.rename( columns={'AverageFeedVolumePerFly_µl':'Cumulative Volume (nl)',\n",
    "#                                          'AverageFeedCountPerFly':'Cumulative Feed Count',\n",
    "#                                          },\n",
    "#                              inplace=True)"
   ]
  },
  {
   "cell_type": "code",
   "execution_count": 156,
   "metadata": {
    "ExecuteTime": {
     "end_time": "2017-09-25T07:29:45.899197Z",
     "start_time": "2017-09-25T07:29:45.893675Z"
    }
   },
   "outputs": [
    {
     "data": {
      "text/plain": [
       "['Temperature']"
      ]
     },
     "execution_count": 156,
     "metadata": {},
     "output_type": "execute_result"
    }
   ],
   "source": [
    "[col for col in [group_by,color_by] if col in df_groupby_resamp_sum.columns]"
   ]
  },
  {
   "cell_type": "code",
   "execution_count": null,
   "metadata": {
    "collapsed": true
   },
   "outputs": [],
   "source": [
    "df_groupby_resamp_sum.drop()"
   ]
  },
  {
   "cell_type": "code",
   "execution_count": 121,
   "metadata": {
    "ExecuteTime": {
     "end_time": "2017-09-25T06:43:09.621305Z",
     "start_time": "2017-09-25T06:43:08.404141Z"
    },
    "collapsed": true
   },
   "outputs": [
    {
     "name": "stderr",
     "output_type": "stream",
     "text": [
      "/Users/josesho/anaconda3/envs/py3.6/lib/python3.6/site-packages/seaborn/timeseries.py:183: UserWarning: The tsplot function is deprecated and will be removed or replaced (in a substantially altered version) in a future release.\n",
      "  warnings.warn(msg, UserWarning)\n"
     ]
    },
    {
     "data": {
      "image/png": "[encoded data removed]",
      "text/plain": [
       "<matplotlib.figure.Figure at 0x116e192b0>"
      ]
     },
     "metadata": {},
     "output_type": "display_data"
    }
   ],
   "source": [
    "groupby_grps=np.sort( df_groupby_resamp_cumsum[group_by].unique() )\n",
    "num_plots=int( len(groupby_grps) )\n",
    "\n",
    "x_inches=10*num_plots\n",
    "y_inches=7\n",
    "    \n",
    "fig,axx=plt.subplots(nrows=1,\n",
    "                      ncols=num_plots,\n",
    "                      figsize=(x_inches,y_inches),\n",
    "                      gridspec_kw={'wspace':0.2} )\n",
    "\n",
    "# Loop through each panel.\n",
    "for c, grp in enumerate( groupby_grps ):\n",
    "    if len(groupby_grps)>1:\n",
    "        plotax=axx[c]\n",
    "    else:\n",
    "        plotax=axx\n",
    "        \n",
    "    ## Filter plotdf according to group_by.\n",
    "    temp_plotdf=df_groupby_resamp_cumsum[df_groupby_resamp_cumsum[group_by]==grp]\n",
    "\n",
    "    ### and make timeseries plot.\n",
    "    sns.tsplot(data=temp_plotdf,ci=95,ax=plotax,\n",
    "               time='time_s',unit='FlyID',\n",
    "               condition=color_by,\n",
    "               value='Cumulative Volume (nl)',\n",
    "            #    color=genotype_palette,\n",
    "            #    alpha=temp_alpha,\n",
    "               linewidth=1.25)\n"
   ]
  },
  {
   "cell_type": "code",
   "execution_count": null,
   "metadata": {
    "collapsed": true
   },
   "outputs": [],
   "source": []
  },
  {
   "cell_type": "code",
   "execution_count": null,
   "metadata": {
    "collapsed": true
   },
   "outputs": [],
   "source": []
  }
 ],
 "metadata": {
  "kernelspec": {
   "display_name": "Python 3.6",
   "language": "python",
   "name": "python3"
  },
  "language_info": {
   "codemirror_mode": {
    "name": "ipython",
    "version": 3
   },
   "file_extension": ".py",
   "mimetype": "text/x-python",
   "name": "python",
   "nbconvert_exporter": "python",
   "pygments_lexer": "ipython3",
   "version": "3.6.1"
  }
 },
 "nbformat": 4,
 "nbformat_minor": 2
}
